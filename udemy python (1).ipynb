{
 "cells": [
  {
   "cell_type": "code",
   "execution_count": 1,
   "id": "6a512943",
   "metadata": {},
   "outputs": [],
   "source": [
    "string='abcdefg'"
   ]
  },
  {
   "cell_type": "code",
   "execution_count": 3,
   "id": "294e79b6",
   "metadata": {},
   "outputs": [
    {
     "data": {
      "text/plain": [
       "'bcdefg'"
      ]
     },
     "execution_count": 3,
     "metadata": {},
     "output_type": "execute_result"
    }
   ],
   "source": [
    "string[1:]"
   ]
  },
  {
   "cell_type": "code",
   "execution_count": 4,
   "id": "3cc0c04b",
   "metadata": {},
   "outputs": [
    {
     "data": {
      "text/plain": [
       "'c'"
      ]
     },
     "execution_count": 4,
     "metadata": {},
     "output_type": "execute_result"
    }
   ],
   "source": [
    "string[2]"
   ]
  },
  {
   "cell_type": "markdown",
   "id": "bbd23ca0",
   "metadata": {},
   "source": [
    "## string properties and methods"
   ]
  },
  {
   "cell_type": "code",
   "execution_count": 5,
   "id": "10795baf",
   "metadata": {},
   "outputs": [],
   "source": [
    "name = 'Sam'"
   ]
  },
  {
   "cell_type": "code",
   "execution_count": 6,
   "id": "a5785948",
   "metadata": {},
   "outputs": [
    {
     "ename": "TypeError",
     "evalue": "'str' object does not support item assignment",
     "output_type": "error",
     "traceback": [
      "\u001b[1;31m---------------------------------------------------------------------------\u001b[0m",
      "\u001b[1;31mTypeError\u001b[0m                                 Traceback (most recent call last)",
      "\u001b[1;32m<ipython-input-6-99ad1d9942de>\u001b[0m in \u001b[0;36m<module>\u001b[1;34m\u001b[0m\n\u001b[1;32m----> 1\u001b[1;33m \u001b[0mname\u001b[0m\u001b[1;33m[\u001b[0m\u001b[1;36m0\u001b[0m\u001b[1;33m]\u001b[0m\u001b[1;33m=\u001b[0m\u001b[1;34m'd'\u001b[0m\u001b[1;33m\u001b[0m\u001b[1;33m\u001b[0m\u001b[0m\n\u001b[0m",
      "\u001b[1;31mTypeError\u001b[0m: 'str' object does not support item assignment"
     ]
    }
   ],
   "source": [
    "name[0]='d'#are immutable"
   ]
  },
  {
   "cell_type": "code",
   "execution_count": 8,
   "id": "ba5a5bb8",
   "metadata": {},
   "outputs": [
    {
     "data": {
      "text/plain": [
       "'am'"
      ]
     },
     "execution_count": 8,
     "metadata": {},
     "output_type": "execute_result"
    }
   ],
   "source": [
    "lastname=name[1:]\n",
    "lastname"
   ]
  },
  {
   "cell_type": "code",
   "execution_count": 9,
   "id": "07fcf6bb",
   "metadata": {},
   "outputs": [
    {
     "data": {
      "text/plain": [
       "'Pam'"
      ]
     },
     "execution_count": 9,
     "metadata": {},
     "output_type": "execute_result"
    }
   ],
   "source": [
    "'P' + lastname"
   ]
  },
  {
   "cell_type": "code",
   "execution_count": 10,
   "id": "315bcd67",
   "metadata": {},
   "outputs": [
    {
     "data": {
      "text/plain": [
       "'hello wordit is beatifull outside'"
      ]
     },
     "execution_count": 10,
     "metadata": {},
     "output_type": "execute_result"
    }
   ],
   "source": [
    "x = 'hello word'\n",
    "x + 'it is beatifull outside'"
   ]
  },
  {
   "cell_type": "code",
   "execution_count": 11,
   "id": "af5d8e71",
   "metadata": {},
   "outputs": [],
   "source": [
    "letter = 'z'\n"
   ]
  },
  {
   "cell_type": "code",
   "execution_count": 12,
   "id": "4e31a506",
   "metadata": {},
   "outputs": [
    {
     "data": {
      "text/plain": [
       "'zzzzzzzzzz'"
      ]
     },
     "execution_count": 12,
     "metadata": {},
     "output_type": "execute_result"
    }
   ],
   "source": [
    "letter*10"
   ]
  },
  {
   "cell_type": "code",
   "execution_count": 13,
   "id": "2165dd9c",
   "metadata": {},
   "outputs": [
    {
     "data": {
      "text/plain": [
       "'Z'"
      ]
     },
     "execution_count": 13,
     "metadata": {},
     "output_type": "execute_result"
    }
   ],
   "source": [
    "letter.upper()"
   ]
  },
  {
   "cell_type": "code",
   "execution_count": 14,
   "id": "5528ddc0",
   "metadata": {},
   "outputs": [
    {
     "data": {
      "text/plain": [
       "['hello', 'word']"
      ]
     },
     "execution_count": 14,
     "metadata": {},
     "output_type": "execute_result"
    }
   ],
   "source": [
    "x.split()"
   ]
  },
  {
   "cell_type": "markdown",
   "id": "8147395d",
   "metadata": {},
   "source": [
    "### formating with .format() method"
   ]
  },
  {
   "cell_type": "code",
   "execution_count": 15,
   "id": "3b912632",
   "metadata": {},
   "outputs": [
    {
     "name": "stdout",
     "output_type": "stream",
     "text": [
      "this is a stringinserted\n"
     ]
    }
   ],
   "source": [
    "print(\"this is a string{}\".format(\"inserted\"))"
   ]
  },
  {
   "cell_type": "code",
   "execution_count": 18,
   "id": "693ceb59",
   "metadata": {},
   "outputs": [
    {
     "name": "stdout",
     "output_type": "stream",
     "text": [
      "fox brown quick\n"
     ]
    }
   ],
   "source": [
    "print(\"{} {} {}\".format(\"fox\",\"brown\",\"quick\"))"
   ]
  },
  {
   "cell_type": "code",
   "execution_count": 22,
   "id": "0f6eb019",
   "metadata": {},
   "outputs": [
    {
     "name": "stdout",
     "output_type": "stream",
     "text": [
      " then quick brown fox\n"
     ]
    }
   ],
   "source": [
    "print(\" then {2} {1} {0}\".format(\"fox\",\"brown\",\"quick\"))# prepei na mpoun ola gia na paiksei"
   ]
  },
  {
   "cell_type": "markdown",
   "id": "6bda9115",
   "metadata": {},
   "source": [
    "### working with keywords"
   ]
  },
  {
   "cell_type": "code",
   "execution_count": 23,
   "id": "bebbccc7",
   "metadata": {},
   "outputs": [],
   "source": [
    "result = 100/666"
   ]
  },
  {
   "cell_type": "code",
   "execution_count": 24,
   "id": "c887f759",
   "metadata": {},
   "outputs": [
    {
     "data": {
      "text/plain": [
       "0.15015015015015015"
      ]
     },
     "execution_count": 24,
     "metadata": {},
     "output_type": "execute_result"
    }
   ],
   "source": [
    "result"
   ]
  },
  {
   "cell_type": "code",
   "execution_count": 25,
   "id": "e3ca416f",
   "metadata": {},
   "outputs": [
    {
     "name": "stdout",
     "output_type": "stream",
     "text": [
      "the results was 0.15015015015015015\n"
     ]
    }
   ],
   "source": [
    "print(\"the results was {}\".format(result))"
   ]
  },
  {
   "cell_type": "markdown",
   "id": "92e46653",
   "metadata": {},
   "source": [
    "# lists"
   ]
  },
  {
   "cell_type": "code",
   "execution_count": 26,
   "id": "8197809a",
   "metadata": {},
   "outputs": [],
   "source": [
    "mylist = [1,2,3]"
   ]
  },
  {
   "cell_type": "code",
   "execution_count": 27,
   "id": "7202f7ae",
   "metadata": {},
   "outputs": [],
   "source": [
    "my_list = ['STRING',100,23.2]"
   ]
  },
  {
   "cell_type": "code",
   "execution_count": 29,
   "id": "38d018f2",
   "metadata": {},
   "outputs": [
    {
     "data": {
      "text/plain": [
       "3"
      ]
     },
     "execution_count": 29,
     "metadata": {},
     "output_type": "execute_result"
    }
   ],
   "source": [
    "len(my_list)  #etsi kanoume kai to range len se loop"
   ]
  },
  {
   "cell_type": "code",
   "execution_count": 31,
   "id": "ffd56edb",
   "metadata": {},
   "outputs": [
    {
     "name": "stdout",
     "output_type": "stream",
     "text": [
      "0\n",
      "1\n",
      "2\n"
     ]
    }
   ],
   "source": [
    "for i in range(len(mylist)):\n",
    "    print(i)"
   ]
  },
  {
   "cell_type": "code",
   "execution_count": 32,
   "id": "abd6d66f",
   "metadata": {},
   "outputs": [],
   "source": [
    "mylist=[\"one\",\"two\",\"three\"]"
   ]
  },
  {
   "cell_type": "code",
   "execution_count": 36,
   "id": "94265ad0",
   "metadata": {},
   "outputs": [
    {
     "data": {
      "text/plain": [
       "['two']"
      ]
     },
     "execution_count": 36,
     "metadata": {},
     "output_type": "execute_result"
    }
   ],
   "source": [
    "mylist[1:2]"
   ]
  },
  {
   "cell_type": "code",
   "execution_count": 37,
   "id": "5c6965a7",
   "metadata": {},
   "outputs": [
    {
     "data": {
      "text/plain": [
       "['one', 'two', 'three']"
      ]
     },
     "execution_count": 37,
     "metadata": {},
     "output_type": "execute_result"
    }
   ],
   "source": [
    "mylist"
   ]
  },
  {
   "cell_type": "code",
   "execution_count": 38,
   "id": "22ee060f",
   "metadata": {},
   "outputs": [
    {
     "data": {
      "text/plain": [
       "['one', 'two', 'three', 'four', 'five']"
      ]
     },
     "execution_count": 38,
     "metadata": {},
     "output_type": "execute_result"
    }
   ],
   "source": [
    "another_list=['four','five']\n",
    "mylist+another_list"
   ]
  },
  {
   "cell_type": "code",
   "execution_count": 39,
   "id": "5869e977",
   "metadata": {},
   "outputs": [],
   "source": [
    "# we can change the list unlike texts"
   ]
  },
  {
   "cell_type": "code",
   "execution_count": 40,
   "id": "d6e0c970",
   "metadata": {},
   "outputs": [],
   "source": [
    "another_list[0]='dsjsdk'"
   ]
  },
  {
   "cell_type": "code",
   "execution_count": 41,
   "id": "ca9f1cc3",
   "metadata": {},
   "outputs": [
    {
     "data": {
      "text/plain": [
       "['dsjsdk', 'five']"
      ]
     },
     "execution_count": 41,
     "metadata": {},
     "output_type": "execute_result"
    }
   ],
   "source": [
    "another_list"
   ]
  },
  {
   "cell_type": "code",
   "execution_count": 42,
   "id": "b2e06c14",
   "metadata": {},
   "outputs": [],
   "source": [
    "## append allows you to append at the end of the list \n",
    "mylist.append(\"hfhf\")"
   ]
  },
  {
   "cell_type": "code",
   "execution_count": 43,
   "id": "2ca8acc6",
   "metadata": {},
   "outputs": [
    {
     "data": {
      "text/plain": [
       "['one', 'two', 'three', 'hfhf']"
      ]
     },
     "execution_count": 43,
     "metadata": {},
     "output_type": "execute_result"
    }
   ],
   "source": [
    "mylist"
   ]
  },
  {
   "cell_type": "code",
   "execution_count": 46,
   "id": "8d91613f",
   "metadata": {},
   "outputs": [
    {
     "data": {
      "text/plain": [
       "'one'"
      ]
     },
     "execution_count": 46,
     "metadata": {},
     "output_type": "execute_result"
    }
   ],
   "source": [
    "##remove from a list\n",
    "mylist.pop(0) # to 0 einai i thesi"
   ]
  },
  {
   "cell_type": "code",
   "execution_count": 47,
   "id": "de2f35b2",
   "metadata": {},
   "outputs": [
    {
     "data": {
      "text/plain": [
       "['two', 'three']"
      ]
     },
     "execution_count": 47,
     "metadata": {},
     "output_type": "execute_result"
    }
   ],
   "source": [
    "mylist"
   ]
  },
  {
   "cell_type": "code",
   "execution_count": 48,
   "id": "fdacc908",
   "metadata": {},
   "outputs": [
    {
     "data": {
      "text/plain": [
       "['two', 'three']"
      ]
     },
     "execution_count": 48,
     "metadata": {},
     "output_type": "execute_result"
    }
   ],
   "source": [
    "mylist"
   ]
  },
  {
   "cell_type": "code",
   "execution_count": 49,
   "id": "52a4a25d",
   "metadata": {},
   "outputs": [],
   "source": [
    "mylist.sort()"
   ]
  },
  {
   "cell_type": "code",
   "execution_count": 50,
   "id": "04e7b28e",
   "metadata": {},
   "outputs": [],
   "source": [
    "list=[3,1,2]\n",
    "list.sort()"
   ]
  },
  {
   "cell_type": "code",
   "execution_count": 51,
   "id": "3f5b6de6",
   "metadata": {},
   "outputs": [
    {
     "data": {
      "text/plain": [
       "[1, 2, 3]"
      ]
     },
     "execution_count": 51,
     "metadata": {},
     "output_type": "execute_result"
    }
   ],
   "source": [
    "list"
   ]
  },
  {
   "cell_type": "code",
   "execution_count": 54,
   "id": "04383c50",
   "metadata": {},
   "outputs": [
    {
     "data": {
      "text/plain": [
       "3"
      ]
     },
     "execution_count": 54,
     "metadata": {},
     "output_type": "execute_result"
    }
   ],
   "source": [
    "nested_list=([1,2,3],[1,2,3])\n",
    "nested_list[1][2]"
   ]
  },
  {
   "cell_type": "markdown",
   "id": "17a314c0",
   "metadata": {},
   "source": [
    "# dictionaries"
   ]
  },
  {
   "cell_type": "markdown",
   "id": "a1318ff6",
   "metadata": {},
   "source": [
    "## allows to put keys in our objects unlike lists"
   ]
  },
  {
   "cell_type": "code",
   "execution_count": 1,
   "id": "870803ea",
   "metadata": {},
   "outputs": [],
   "source": [
    "#tk=he keys allows you to call whatever you want"
   ]
  },
  {
   "cell_type": "code",
   "execution_count": 2,
   "id": "fa95bd27",
   "metadata": {},
   "outputs": [],
   "source": [
    "my_dict={\"key1\":\"value1\",\"key2\":\"value2\"}"
   ]
  },
  {
   "cell_type": "code",
   "execution_count": 3,
   "id": "b7df88a9",
   "metadata": {},
   "outputs": [
    {
     "data": {
      "text/plain": [
       "{'key1': 'value1', 'key2': 'value2'}"
      ]
     },
     "execution_count": 3,
     "metadata": {},
     "output_type": "execute_result"
    }
   ],
   "source": [
    "my_dict"
   ]
  },
  {
   "cell_type": "code",
   "execution_count": 4,
   "id": "7ef8ac32",
   "metadata": {},
   "outputs": [
    {
     "data": {
      "text/plain": [
       "'value1'"
      ]
     },
     "execution_count": 4,
     "metadata": {},
     "output_type": "execute_result"
    }
   ],
   "source": [
    "my_dict[\"key1\"]# locate it with keys,we ask the keys and bring us the value"
   ]
  },
  {
   "cell_type": "code",
   "execution_count": 5,
   "id": "7ac329e5",
   "metadata": {},
   "outputs": [],
   "source": [
    "price_loukup={\"apple\":2.99,\"oranges\":1.99,\"milt\":5.80}"
   ]
  },
  {
   "cell_type": "code",
   "execution_count": 6,
   "id": "2aca3e24",
   "metadata": {},
   "outputs": [
    {
     "data": {
      "text/plain": [
       "2.99"
      ]
     },
     "execution_count": 6,
     "metadata": {},
     "output_type": "execute_result"
    }
   ],
   "source": [
    "price_loukup[\"apple\"]"
   ]
  },
  {
   "cell_type": "markdown",
   "id": "395cf036",
   "metadata": {},
   "source": []
  },
  {
   "cell_type": "code",
   "execution_count": 7,
   "id": "872da3f1",
   "metadata": {},
   "outputs": [],
   "source": [
    "d = {\"k1\":123,\"k2\":[1,2,3]}"
   ]
  },
  {
   "cell_type": "code",
   "execution_count": 8,
   "id": "a4d0504b",
   "metadata": {},
   "outputs": [
    {
     "data": {
      "text/plain": [
       "[1, 2, 3]"
      ]
     },
     "execution_count": 8,
     "metadata": {},
     "output_type": "execute_result"
    }
   ],
   "source": [
    "d[\"k2\"]"
   ]
  },
  {
   "cell_type": "code",
   "execution_count": 9,
   "id": "acfd699d",
   "metadata": {},
   "outputs": [
    {
     "data": {
      "text/plain": [
       "2"
      ]
     },
     "execution_count": 9,
     "metadata": {},
     "output_type": "execute_result"
    }
   ],
   "source": [
    "d['k2'][1]"
   ]
  },
  {
   "cell_type": "code",
   "execution_count": 10,
   "id": "f39ec23b",
   "metadata": {},
   "outputs": [
    {
     "data": {
      "text/plain": [
       "dict_keys(['k1', 'k2'])"
      ]
     },
     "execution_count": 10,
     "metadata": {},
     "output_type": "execute_result"
    }
   ],
   "source": [
    "d.keys()"
   ]
  },
  {
   "cell_type": "markdown",
   "id": "90144c5e",
   "metadata": {},
   "source": [
    "## tuples"
   ]
  },
  {
   "cell_type": "code",
   "execution_count": 11,
   "id": "cfd9ea65",
   "metadata": {},
   "outputs": [],
   "source": [
    "#tuples einai san ta lists alla den mporoun na allaksoun\n",
    "#an ginei assign se kati dn allazei h dn mporeis na pareis ena kommati tou\n",
    "tuples=(1,2,3)"
   ]
  },
  {
   "cell_type": "code",
   "execution_count": 13,
   "id": "74db5b76",
   "metadata": {},
   "outputs": [
    {
     "ename": "TypeError",
     "evalue": "'tuple' object does not support item assignment",
     "output_type": "error",
     "traceback": [
      "\u001b[1;31m---------------------------------------------------------------------------\u001b[0m",
      "\u001b[1;31mTypeError\u001b[0m                                 Traceback (most recent call last)",
      "\u001b[1;32m<ipython-input-13-247e2f5ae8a2>\u001b[0m in \u001b[0;36m<module>\u001b[1;34m\u001b[0m\n\u001b[1;32m----> 1\u001b[1;33m \u001b[0mtuples\u001b[0m\u001b[1;33m[\u001b[0m\u001b[1;36m1\u001b[0m\u001b[1;33m]\u001b[0m\u001b[1;33m=\u001b[0m\u001b[1;36m0\u001b[0m\u001b[1;33m\u001b[0m\u001b[1;33m\u001b[0m\u001b[0m\n\u001b[0m",
      "\u001b[1;31mTypeError\u001b[0m: 'tuple' object does not support item assignment"
     ]
    }
   ],
   "source": [
    "tuples[1]=0"
   ]
  },
  {
   "cell_type": "code",
   "execution_count": 14,
   "id": "570016b2",
   "metadata": {},
   "outputs": [],
   "source": [
    "t = (\"A\",\"A\",\"b\")#tuples xrisimopoieis genika an thes kati na min allaksei\n"
   ]
  },
  {
   "cell_type": "code",
   "execution_count": 17,
   "id": "6f14a440",
   "metadata": {},
   "outputs": [
    {
     "data": {
      "text/plain": [
       "2"
      ]
     },
     "execution_count": 17,
     "metadata": {},
     "output_type": "execute_result"
    }
   ],
   "source": [
    "t.count(\"A\")"
   ]
  },
  {
   "cell_type": "code",
   "execution_count": 18,
   "id": "5c6a6f52",
   "metadata": {},
   "outputs": [
    {
     "data": {
      "text/plain": [
       "0"
      ]
     },
     "execution_count": 18,
     "metadata": {},
     "output_type": "execute_result"
    }
   ],
   "source": [
    "t.index(\"A\")"
   ]
  },
  {
   "cell_type": "code",
   "execution_count": 20,
   "id": "c747016c",
   "metadata": {},
   "outputs": [],
   "source": [
    "list=[1,2,3,4]\n",
    "list[0]=4"
   ]
  },
  {
   "cell_type": "code",
   "execution_count": 21,
   "id": "38ad43ba",
   "metadata": {},
   "outputs": [
    {
     "data": {
      "text/plain": [
       "[4, 2, 3, 4]"
      ]
     },
     "execution_count": 21,
     "metadata": {},
     "output_type": "execute_result"
    }
   ],
   "source": [
    "list"
   ]
  },
  {
   "cell_type": "code",
   "execution_count": 23,
   "id": "b8991bd5",
   "metadata": {},
   "outputs": [
    {
     "ename": "TypeError",
     "evalue": "'tuple' object does not support item assignment",
     "output_type": "error",
     "traceback": [
      "\u001b[1;31m---------------------------------------------------------------------------\u001b[0m",
      "\u001b[1;31mTypeError\u001b[0m                                 Traceback (most recent call last)",
      "\u001b[1;32m<ipython-input-23-3f0d58aacce6>\u001b[0m in \u001b[0;36m<module>\u001b[1;34m\u001b[0m\n\u001b[1;32m----> 1\u001b[1;33m \u001b[0mt\u001b[0m\u001b[1;33m[\u001b[0m\u001b[1;36m0\u001b[0m\u001b[1;33m]\u001b[0m\u001b[1;33m=\u001b[0m\u001b[1;36m3\u001b[0m\u001b[1;33m\u001b[0m\u001b[1;33m\u001b[0m\u001b[0m\n\u001b[0m",
      "\u001b[1;31mTypeError\u001b[0m: 'tuple' object does not support item assignment"
     ]
    }
   ],
   "source": [
    "t[0]=3"
   ]
  },
  {
   "cell_type": "markdown",
   "id": "bcb30212",
   "metadata": {},
   "source": [
    "### sets"
   ]
  },
  {
   "cell_type": "code",
   "execution_count": 24,
   "id": "8f84ef29",
   "metadata": {},
   "outputs": [],
   "source": [
    "#unorderes colection of unique things"
   ]
  },
  {
   "cell_type": "code",
   "execution_count": 26,
   "id": "560b5a03",
   "metadata": {},
   "outputs": [],
   "source": [
    "myset = set()"
   ]
  },
  {
   "cell_type": "code",
   "execution_count": 27,
   "id": "d9313aca",
   "metadata": {},
   "outputs": [],
   "source": [
    "myset.add(1)"
   ]
  },
  {
   "cell_type": "code",
   "execution_count": 29,
   "id": "8f938d05",
   "metadata": {},
   "outputs": [],
   "source": [
    "myset.add(4)"
   ]
  },
  {
   "cell_type": "code",
   "execution_count": 30,
   "id": "132fc45b",
   "metadata": {},
   "outputs": [
    {
     "data": {
      "text/plain": [
       "{1, 4}"
      ]
     },
     "execution_count": 30,
     "metadata": {},
     "output_type": "execute_result"
    }
   ],
   "source": [
    "myset"
   ]
  },
  {
   "cell_type": "code",
   "execution_count": 32,
   "id": "3cc0e7c4",
   "metadata": {},
   "outputs": [],
   "source": [
    "myset.add(2)"
   ]
  },
  {
   "cell_type": "code",
   "execution_count": 34,
   "id": "216d8bb2",
   "metadata": {},
   "outputs": [
    {
     "data": {
      "text/plain": [
       "{1, 2, 4}"
      ]
     },
     "execution_count": 34,
     "metadata": {},
     "output_type": "execute_result"
    }
   ],
   "source": [
    "myset#wonot repeat the 2 beacuse they should have unique values"
   ]
  },
  {
   "cell_type": "code",
   "execution_count": 35,
   "id": "cf7e34b6",
   "metadata": {},
   "outputs": [],
   "source": [
    "mylist = [1,2,3,4,5,5,]"
   ]
  },
  {
   "cell_type": "code",
   "execution_count": 36,
   "id": "8deec0e7",
   "metadata": {},
   "outputs": [
    {
     "data": {
      "text/plain": [
       "{1, 2, 3, 4, 5}"
      ]
     },
     "execution_count": 36,
     "metadata": {},
     "output_type": "execute_result"
    }
   ],
   "source": [
    "set(mylist)"
   ]
  },
  {
   "cell_type": "markdown",
   "id": "e6e12e6b",
   "metadata": {},
   "source": [
    "# booleans"
   ]
  },
  {
   "cell_type": "code",
   "execution_count": 37,
   "id": "5fa9acc7",
   "metadata": {},
   "outputs": [],
   "source": [
    "#if conditions is true execute a block code"
   ]
  },
  {
   "cell_type": "code",
   "execution_count": 38,
   "id": "4e55c88e",
   "metadata": {},
   "outputs": [
    {
     "data": {
      "text/plain": [
       "True"
      ]
     },
     "execution_count": 38,
     "metadata": {},
     "output_type": "execute_result"
    }
   ],
   "source": [
    "True"
   ]
  },
  {
   "cell_type": "code",
   "execution_count": 39,
   "id": "eadb07c3",
   "metadata": {},
   "outputs": [
    {
     "data": {
      "text/plain": [
       "False"
      ]
     },
     "execution_count": 39,
     "metadata": {},
     "output_type": "execute_result"
    }
   ],
   "source": [
    "False"
   ]
  },
  {
   "cell_type": "code",
   "execution_count": 40,
   "id": "fd9d4bcf",
   "metadata": {},
   "outputs": [
    {
     "data": {
      "text/plain": [
       "False"
      ]
     },
     "execution_count": 40,
     "metadata": {},
     "output_type": "execute_result"
    }
   ],
   "source": [
    "1>2"
   ]
  },
  {
   "cell_type": "markdown",
   "id": "dddb9747",
   "metadata": {},
   "source": [
    "# comparison operators"
   ]
  },
  {
   "cell_type": "code",
   "execution_count": 41,
   "id": "30fad907",
   "metadata": {},
   "outputs": [
    {
     "data": {
      "text/plain": [
       "True"
      ]
     },
     "execution_count": 41,
     "metadata": {},
     "output_type": "execute_result"
    }
   ],
   "source": [
    "2 == 2"
   ]
  },
  {
   "cell_type": "code",
   "execution_count": 42,
   "id": "e59fcc7f",
   "metadata": {},
   "outputs": [
    {
     "data": {
      "text/plain": [
       "False"
      ]
     },
     "execution_count": 42,
     "metadata": {},
     "output_type": "execute_result"
    }
   ],
   "source": [
    "2==1"
   ]
  },
  {
   "cell_type": "code",
   "execution_count": 43,
   "id": "18de1aa9",
   "metadata": {},
   "outputs": [
    {
     "data": {
      "text/plain": [
       "False"
      ]
     },
     "execution_count": 43,
     "metadata": {},
     "output_type": "execute_result"
    }
   ],
   "source": [
    "\"buy\"==\"b\""
   ]
  },
  {
   "cell_type": "markdown",
   "id": "b24bd129",
   "metadata": {},
   "source": [
    "## logical operators and comparison"
   ]
  },
  {
   "cell_type": "markdown",
   "id": "e1f5ca8e",
   "metadata": {},
   "source": []
  },
  {
   "cell_type": "code",
   "execution_count": 44,
   "id": "b1f76e17",
   "metadata": {},
   "outputs": [
    {
     "data": {
      "text/plain": [
       "True"
      ]
     },
     "execution_count": 44,
     "metadata": {},
     "output_type": "execute_result"
    }
   ],
   "source": [
    "1 < 2 and 3 < 4"
   ]
  },
  {
   "cell_type": "code",
   "execution_count": 45,
   "id": "0b95be36",
   "metadata": {},
   "outputs": [
    {
     "data": {
      "text/plain": [
       "True"
      ]
     },
     "execution_count": 45,
     "metadata": {},
     "output_type": "execute_result"
    }
   ],
   "source": [
    "3 <5 or 3<1"
   ]
  },
  {
   "cell_type": "markdown",
   "id": "52547e04",
   "metadata": {},
   "source": [
    "# if elif else"
   ]
  },
  {
   "cell_type": "code",
   "execution_count": 46,
   "id": "902383ef",
   "metadata": {},
   "outputs": [],
   "source": [
    "#if_some condition:\n",
    "    #execute code\n",
    " #elif some other condition:\n",
    "    #do something different\n",
    " #else:\n",
    "  #do something else"
   ]
  },
  {
   "cell_type": "code",
   "execution_count": 47,
   "id": "efc91fab",
   "metadata": {},
   "outputs": [
    {
     "name": "stdout",
     "output_type": "stream",
     "text": [
      "its bigger\n"
     ]
    }
   ],
   "source": [
    "if 2>1:\n",
    "    print(\"its bigger\")"
   ]
  },
  {
   "cell_type": "code",
   "execution_count": 51,
   "id": "4a417081",
   "metadata": {},
   "outputs": [
    {
     "name": "stdout",
     "output_type": "stream",
     "text": [
      "ITS TRUE\n"
     ]
    }
   ],
   "source": [
    "if True:\n",
    "    print(\"ITS TRUE\")"
   ]
  },
  {
   "cell_type": "code",
   "execution_count": 52,
   "id": "fe473c8b",
   "metadata": {},
   "outputs": [],
   "source": [
    "if False:#an einai false den execute\n",
    "    print(\"ITs false\")"
   ]
  },
  {
   "cell_type": "code",
   "execution_count": 57,
   "id": "f74b5b9a",
   "metadata": {},
   "outputs": [
    {
     "name": "stdout",
     "output_type": "stream",
     "text": [
      "im not hungry\n"
     ]
    }
   ],
   "source": [
    "hungry = False\n",
    "if hungry:\n",
    "    print(\"feed me \")\n",
    "else:\n",
    "    print(\"im not hungry\")"
   ]
  },
  {
   "cell_type": "code",
   "execution_count": 58,
   "id": "a5423f7f",
   "metadata": {},
   "outputs": [
    {
     "name": "stdout",
     "output_type": "stream",
     "text": [
      "its bank\n"
     ]
    }
   ],
   "source": [
    "loc = 'Bank'\n",
    "if loc =='autoshop':\n",
    "    print(\"cars\")\n",
    "elif loc =='Bank':\n",
    "    print(\"its bank\")\n",
    "else:\n",
    "    print(\"i dont know much\")"
   ]
  },
  {
   "cell_type": "markdown",
   "id": "fa2c2a12",
   "metadata": {},
   "source": [
    "# foor loops"
   ]
  },
  {
   "cell_type": "code",
   "execution_count": 59,
   "id": "9f0f4d61",
   "metadata": {},
   "outputs": [],
   "source": [
    "#exute block of code for every element"
   ]
  },
  {
   "cell_type": "code",
   "execution_count": 63,
   "id": "7c10af71",
   "metadata": {},
   "outputs": [
    {
     "name": "stdout",
     "output_type": "stream",
     "text": [
      "0\n",
      "1\n",
      "2\n",
      "3\n",
      "4\n",
      "5\n",
      "6\n"
     ]
    }
   ],
   "source": [
    "my_loop = [1,2,3,4,6,7,8]\n",
    "for i in range(len(my_loop)):\n",
    "    print(i)"
   ]
  },
  {
   "cell_type": "code",
   "execution_count": 64,
   "id": "63a79275",
   "metadata": {},
   "outputs": [
    {
     "name": "stdout",
     "output_type": "stream",
     "text": [
      "1\n",
      "2\n",
      "3\n",
      "4\n",
      "6\n",
      "7\n",
      "8\n"
     ]
    }
   ],
   "source": [
    "for i in my_loop:\n",
    "    print(i)"
   ]
  },
  {
   "cell_type": "code",
   "execution_count": 69,
   "id": "a736a7a9",
   "metadata": {},
   "outputs": [
    {
     "name": "stdout",
     "output_type": "stream",
     "text": [
      "odd number1\n",
      "2\n",
      "odd number3\n",
      "4\n",
      "6\n",
      "odd number7\n",
      "8\n"
     ]
    }
   ],
   "source": [
    " for i in my_loop:\n",
    "        ## check for even\n",
    "    if i % 2 ==0:\n",
    "        print(i)\n",
    "    else:\n",
    "        print(f'odd number{i}')\n",
    "       "
   ]
  },
  {
   "cell_type": "code",
   "execution_count": 74,
   "id": "9bab9fee",
   "metadata": {},
   "outputs": [
    {
     "ename": "TypeError",
     "evalue": "'int' object is not iterable",
     "output_type": "error",
     "traceback": [
      "\u001b[1;31m---------------------------------------------------------------------------\u001b[0m",
      "\u001b[1;31mTypeError\u001b[0m                                 Traceback (most recent call last)",
      "\u001b[1;32m<ipython-input-74-1876ef6ef7aa>\u001b[0m in \u001b[0;36m<module>\u001b[1;34m\u001b[0m\n\u001b[0;32m      1\u001b[0m \u001b[0mlist_sum\u001b[0m \u001b[1;33m=\u001b[0m \u001b[1;36m0\u001b[0m\u001b[1;33m\u001b[0m\u001b[1;33m\u001b[0m\u001b[0m\n\u001b[1;32m----> 2\u001b[1;33m \u001b[1;32mfor\u001b[0m \u001b[0mnum\u001b[0m \u001b[1;32min\u001b[0m \u001b[0mlist_sum\u001b[0m\u001b[1;33m:\u001b[0m\u001b[1;33m\u001b[0m\u001b[1;33m\u001b[0m\u001b[0m\n\u001b[0m\u001b[0;32m      3\u001b[0m       \u001b[0mlist_sum\u001b[0m \u001b[1;33m=\u001b[0m \u001b[0mlist__sum\u001b[0m \u001b[1;33m+\u001b[0m \u001b[0mnum\u001b[0m\u001b[1;33m\u001b[0m\u001b[1;33m\u001b[0m\u001b[0m\n\u001b[0;32m      4\u001b[0m \u001b[0mprint\u001b[0m\u001b[1;33m(\u001b[0m\u001b[0mlist_sum\u001b[0m\u001b[1;33m)\u001b[0m\u001b[1;33m\u001b[0m\u001b[1;33m\u001b[0m\u001b[0m\n",
      "\u001b[1;31mTypeError\u001b[0m: 'int' object is not iterable"
     ]
    }
   ],
   "source": [
    "list_sum = 0\n",
    "for num in list_sum:\n",
    "      list_sum = list__sum + num\n",
    "print(list_sum)        "
   ]
  },
  {
   "cell_type": "code",
   "execution_count": 75,
   "id": "e7e4b010",
   "metadata": {},
   "outputs": [
    {
     "data": {
      "text/plain": [
       "[1, 2, 3, 4, 5, 5]"
      ]
     },
     "execution_count": 75,
     "metadata": {},
     "output_type": "execute_result"
    }
   ],
   "source": [
    "mylist"
   ]
  },
  {
   "cell_type": "code",
   "execution_count": 80,
   "id": "97db1688",
   "metadata": {},
   "outputs": [
    {
     "name": "stdout",
     "output_type": "stream",
     "text": [
      "20\n"
     ]
    }
   ],
   "source": [
    "list_sum = 0\n",
    "for i in mylist:\n",
    "    list_sum = list_sum + i\n",
    "print(list_sum)    "
   ]
  },
  {
   "cell_type": "code",
   "execution_count": 77,
   "id": "11dc1569",
   "metadata": {},
   "outputs": [
    {
     "data": {
      "text/plain": [
       "[1, 2, 3, 4, 5, 5]"
      ]
     },
     "execution_count": 77,
     "metadata": {},
     "output_type": "execute_result"
    }
   ],
   "source": [
    "mylist"
   ]
  },
  {
   "cell_type": "code",
   "execution_count": 79,
   "id": "19fbf50d",
   "metadata": {},
   "outputs": [
    {
     "name": "stdout",
     "output_type": "stream",
     "text": [
      "20\n"
     ]
    }
   ],
   "source": [
    "list_sum = 0\n",
    "for i in mylist:\n",
    "    list_sum = i + list_sum\n",
    "print(list_sum)    "
   ]
  },
  {
   "cell_type": "code",
   "execution_count": 81,
   "id": "df75190e",
   "metadata": {},
   "outputs": [
    {
     "name": "stdout",
     "output_type": "stream",
     "text": [
      "a\n",
      "b\n",
      "c\n",
      "s\n"
     ]
    }
   ],
   "source": [
    "my_str = \"abcs\"\n",
    "for i in my_str:\n",
    "    print(i)"
   ]
  },
  {
   "cell_type": "code",
   "execution_count": 82,
   "id": "85042d49",
   "metadata": {},
   "outputs": [
    {
     "name": "stdout",
     "output_type": "stream",
     "text": [
      "a\n",
      "b\n"
     ]
    }
   ],
   "source": [
    "my_str = \"abcs\"\n",
    "for i in my_str[:2]:\n",
    "    print(i)"
   ]
  },
  {
   "cell_type": "code",
   "execution_count": 84,
   "id": "283b2859",
   "metadata": {},
   "outputs": [
    {
     "name": "stdout",
     "output_type": "stream",
     "text": [
      "1\n",
      "2\n",
      "3\n"
     ]
    }
   ],
   "source": [
    " tup = (1,2,3)\n",
    "for item in tup:\n",
    "    print(item)"
   ]
  },
  {
   "cell_type": "code",
   "execution_count": 95,
   "id": "5d2fa388",
   "metadata": {},
   "outputs": [],
   "source": [
    "mylist1 = [(1,2),(3,4),(7,8)]"
   ]
  },
  {
   "cell_type": "code",
   "execution_count": 87,
   "id": "2694da31",
   "metadata": {},
   "outputs": [
    {
     "data": {
      "text/plain": [
       "3"
      ]
     },
     "execution_count": 87,
     "metadata": {},
     "output_type": "execute_result"
    }
   ],
   "source": [
    "len(mylist)"
   ]
  },
  {
   "cell_type": "code",
   "execution_count": 88,
   "id": "7d9dc036",
   "metadata": {},
   "outputs": [
    {
     "name": "stdout",
     "output_type": "stream",
     "text": [
      "(1, 2)\n",
      "(3, 4)\n",
      "(7, 8)\n"
     ]
    }
   ],
   "source": [
    "for item in mylist:\n",
    "    print(item)"
   ]
  },
  {
   "cell_type": "code",
   "execution_count": 104,
   "id": "2e2f4536",
   "metadata": {},
   "outputs": [
    {
     "name": "stdout",
     "output_type": "stream",
     "text": [
      "1\n",
      "2\n",
      "3\n",
      "4\n",
      "7\n",
      "8\n"
     ]
    }
   ],
   "source": [
    "for a,b in mylist1:\n",
    "    print(a)\n",
    "    print(b)\n",
    "    \n",
    "    "
   ]
  },
  {
   "cell_type": "code",
   "execution_count": 90,
   "id": "15c61ecd",
   "metadata": {},
   "outputs": [],
   "source": [
    "mylist = [(1,2,3),(5,6,7),(8,9,10)]"
   ]
  },
  {
   "cell_type": "code",
   "execution_count": 106,
   "id": "9fb27549",
   "metadata": {},
   "outputs": [
    {
     "name": "stdout",
     "output_type": "stream",
     "text": [
      "1\n",
      "2\n",
      "3\n",
      "5\n",
      "6\n",
      "7\n",
      "8\n",
      "9\n",
      "10\n"
     ]
    }
   ],
   "source": [
    "for a,b,c in mylist: \n",
    "    print(a)\n",
    "    print(b)\n",
    "    print(c)"
   ]
  },
  {
   "cell_type": "markdown",
   "id": "ae8f8178",
   "metadata": {},
   "source": [
    "### loop for dictionaries"
   ]
  },
  {
   "cell_type": "code",
   "execution_count": 107,
   "id": "fd20b147",
   "metadata": {},
   "outputs": [],
   "source": [
    "d = {\"k1\":1,\"k2\":2,\"k3\":3}"
   ]
  },
  {
   "cell_type": "code",
   "execution_count": 108,
   "id": "e4402838",
   "metadata": {},
   "outputs": [
    {
     "name": "stdout",
     "output_type": "stream",
     "text": [
      "('k1', 1)\n",
      "('k2', 2)\n",
      "('k3', 3)\n"
     ]
    }
   ],
   "source": [
    "for item in d.items():\n",
    "    print(item)"
   ]
  },
  {
   "cell_type": "code",
   "execution_count": 109,
   "id": "e5bb5a94",
   "metadata": {},
   "outputs": [
    {
     "name": "stdout",
     "output_type": "stream",
     "text": [
      "k1\n",
      "k2\n",
      "k3\n"
     ]
    }
   ],
   "source": [
    "for item in d.keys():\n",
    "    print(item)"
   ]
  },
  {
   "cell_type": "code",
   "execution_count": 111,
   "id": "0ebe4b84",
   "metadata": {},
   "outputs": [
    {
     "name": "stdout",
     "output_type": "stream",
     "text": [
      "1\n",
      "k1\n",
      "2\n",
      "k2\n",
      "3\n",
      "k3\n"
     ]
    }
   ],
   "source": [
    "for key,value in d.items():\n",
    "    print(value)\n",
    "    print(key)"
   ]
  },
  {
   "cell_type": "code",
   "execution_count": 112,
   "id": "af9fd52e",
   "metadata": {},
   "outputs": [
    {
     "name": "stdout",
     "output_type": "stream",
     "text": [
      "1\n",
      "2\n",
      "3\n"
     ]
    }
   ],
   "source": [
    "for i in d.values():\n",
    "    print(i)"
   ]
  },
  {
   "cell_type": "markdown",
   "id": "b71266b9",
   "metadata": {},
   "source": [
    "## functions"
   ]
  },
  {
   "cell_type": "code",
   "execution_count": 1,
   "id": "d3379c0e",
   "metadata": {},
   "outputs": [],
   "source": [
    "# a repeat block of code"
   ]
  },
  {
   "cell_type": "code",
   "execution_count": 2,
   "id": "69a42987",
   "metadata": {},
   "outputs": [],
   "source": [
    "def name():\n",
    " print(\"hello\")"
   ]
  },
  {
   "cell_type": "code",
   "execution_count": 4,
   "id": "52150424",
   "metadata": {},
   "outputs": [
    {
     "name": "stdout",
     "output_type": "stream",
     "text": [
      "hello\n"
     ]
    }
   ],
   "source": [
    "name()"
   ]
  },
  {
   "cell_type": "code",
   "execution_count": 5,
   "id": "a5981aef",
   "metadata": {},
   "outputs": [
    {
     "name": "stdout",
     "output_type": "stream",
     "text": [
      "hellohose\n"
     ]
    }
   ],
   "source": [
    "def name(name):\n",
    "    print(\"hello\" + name)\n",
    "name(\"hose\")    "
   ]
  },
  {
   "cell_type": "code",
   "execution_count": 6,
   "id": "4df13bd6",
   "metadata": {},
   "outputs": [],
   "source": [
    "#typically we use return keyword to send back the result\n",
    "#return allow us to assign the output of the function to a new variable\n",
    "#very rarely we use print inside function cause we use it out side of it"
   ]
  },
  {
   "cell_type": "code",
   "execution_count": 7,
   "id": "b790d1d5",
   "metadata": {},
   "outputs": [],
   "source": [
    "def name(num,num1):\n",
    "    return num + num1\n",
    "result = name(1,2)\n",
    "#return allows us to assign the nums to the result variable"
   ]
  },
  {
   "cell_type": "code",
   "execution_count": 8,
   "id": "b516f319",
   "metadata": {},
   "outputs": [
    {
     "data": {
      "text/plain": [
       "3"
      ]
     },
     "execution_count": 8,
     "metadata": {},
     "output_type": "execute_result"
    }
   ],
   "source": [
    "result"
   ]
  },
  {
   "cell_type": "markdown",
   "id": "a84ea3eb",
   "metadata": {},
   "source": [
    "# basic functions"
   ]
  },
  {
   "cell_type": "code",
   "execution_count": 9,
   "id": "64150efb",
   "metadata": {},
   "outputs": [],
   "source": [
    "def say_hello():\n",
    "    print(\"hello\")"
   ]
  },
  {
   "cell_type": "code",
   "execution_count": 10,
   "id": "ddb93679",
   "metadata": {},
   "outputs": [
    {
     "name": "stdout",
     "output_type": "stream",
     "text": [
      "hello\n"
     ]
    }
   ],
   "source": [
    "say_hello()"
   ]
  },
  {
   "cell_type": "code",
   "execution_count": 11,
   "id": "0f5b6e7e",
   "metadata": {},
   "outputs": [],
   "source": [
    "def say_hello(name):\n",
    "    print(f\"hello {name}\")"
   ]
  },
  {
   "cell_type": "code",
   "execution_count": 12,
   "id": "386cf887",
   "metadata": {},
   "outputs": [
    {
     "name": "stdout",
     "output_type": "stream",
     "text": [
      "hello jogn\n"
     ]
    }
   ],
   "source": [
    "say_hello(\"jogn\")"
   ]
  },
  {
   "cell_type": "markdown",
   "id": "5b60e7eb",
   "metadata": {},
   "source": [
    "## default value"
   ]
  },
  {
   "cell_type": "code",
   "execution_count": 13,
   "id": "07671349",
   "metadata": {},
   "outputs": [],
   "source": [
    "def say_hello(name='hose'):\n",
    "    print(f\"hello {name}\")"
   ]
  },
  {
   "cell_type": "code",
   "execution_count": 14,
   "id": "43a381de",
   "metadata": {},
   "outputs": [
    {
     "name": "stdout",
     "output_type": "stream",
     "text": [
      "hello hose\n"
     ]
    }
   ],
   "source": [
    "say_hello()"
   ]
  },
  {
   "cell_type": "markdown",
   "id": "f4fd2749",
   "metadata": {},
   "source": [
    "# me to return twra"
   ]
  },
  {
   "cell_type": "code",
   "execution_count": 15,
   "id": "42b89fd7",
   "metadata": {},
   "outputs": [],
   "source": [
    "def add_num(num1,num2):\n",
    "    return num1+num2\n",
    "\n"
   ]
  },
  {
   "cell_type": "code",
   "execution_count": 16,
   "id": "a4165a14",
   "metadata": {},
   "outputs": [],
   "source": [
    "#the main difference return print ienai oti to print apla to epistrefei\n",
    "#to return mporeis na to kaneis assign se neo variable"
   ]
  },
  {
   "cell_type": "code",
   "execution_count": 17,
   "id": "117a70e1",
   "metadata": {},
   "outputs": [
    {
     "data": {
      "text/plain": [
       "4"
      ]
     },
     "execution_count": 17,
     "metadata": {},
     "output_type": "execute_result"
    }
   ],
   "source": [
    "add_num(2,2)"
   ]
  },
  {
   "cell_type": "code",
   "execution_count": 18,
   "id": "afe9f8bf",
   "metadata": {},
   "outputs": [],
   "source": [
    "add_num=add_num(2,3)"
   ]
  },
  {
   "cell_type": "code",
   "execution_count": 20,
   "id": "2b43e1a6",
   "metadata": {},
   "outputs": [
    {
     "data": {
      "text/plain": [
       "5"
      ]
     },
     "execution_count": 20,
     "metadata": {},
     "output_type": "execute_result"
    }
   ],
   "source": [
    "add_num#twra to exw se variable"
   ]
  },
  {
   "cell_type": "code",
   "execution_count": 21,
   "id": "1b9dbec2",
   "metadata": {},
   "outputs": [],
   "source": [
    "#den mporeis na kaneis saved to apotelesma apo to print \n",
    "#gia auto einai kalutero to return"
   ]
  },
  {
   "cell_type": "markdown",
   "id": "e050a657",
   "metadata": {},
   "source": [
    "## functions with logic"
   ]
  },
  {
   "cell_type": "code",
   "execution_count": 22,
   "id": "14aeb0d5",
   "metadata": {},
   "outputs": [],
   "source": [
    "#gia na tsekaro an kati einai even\n",
    "#tote to kanw % me to 2,an einai 0 tote einai even"
   ]
  },
  {
   "cell_type": "code",
   "execution_count": 24,
   "id": "055a23c8",
   "metadata": {},
   "outputs": [
    {
     "data": {
      "text/plain": [
       "False"
      ]
     },
     "execution_count": 24,
     "metadata": {},
     "output_type": "execute_result"
    }
   ],
   "source": [
    "21 % 2 ==0"
   ]
  },
  {
   "cell_type": "code",
   "execution_count": 25,
   "id": "179945dd",
   "metadata": {},
   "outputs": [
    {
     "data": {
      "text/plain": [
       "True"
      ]
     },
     "execution_count": 25,
     "metadata": {},
     "output_type": "execute_result"
    }
   ],
   "source": [
    "20 % 2 ==0"
   ]
  },
  {
   "cell_type": "code",
   "execution_count": 26,
   "id": "aaee5067",
   "metadata": {},
   "outputs": [],
   "source": [
    "def even_check(num):\n",
    "    if num % 2 ==0:\n",
    "        print(\"its even\")\n",
    "    else:\n",
    "        print(\"its not even\")"
   ]
  },
  {
   "cell_type": "code",
   "execution_count": 27,
   "id": "11acc082",
   "metadata": {},
   "outputs": [
    {
     "name": "stdout",
     "output_type": "stream",
     "text": [
      "its even\n"
     ]
    }
   ],
   "source": [
    "even_check(20)"
   ]
  },
  {
   "cell_type": "markdown",
   "id": "d508f24e",
   "metadata": {},
   "source": [
    "# importand note:panta an kaneis return exe ta se variable diladi kane ta calculations apo panw kai return ena variable\n"
   ]
  },
  {
   "cell_type": "code",
   "execution_count": 28,
   "id": "1f0c06a7",
   "metadata": {},
   "outputs": [],
   "source": [
    "def even_check(num):\n",
    "    result = num % 2==0\n",
    "    return result"
   ]
  },
  {
   "cell_type": "code",
   "execution_count": 29,
   "id": "2e19e7f5",
   "metadata": {},
   "outputs": [
    {
     "data": {
      "text/plain": [
       "False"
      ]
     },
     "execution_count": 29,
     "metadata": {},
     "output_type": "execute_result"
    }
   ],
   "source": [
    "even_check(29)"
   ]
  },
  {
   "cell_type": "code",
   "execution_count": 31,
   "id": "eb0aec7b",
   "metadata": {},
   "outputs": [],
   "source": [
    "def even_check(num):\n",
    "    \n",
    "    return  num % 2==0 #mporeis na to kaneis kai etsi na kanei ta calc sto return"
   ]
  },
  {
   "cell_type": "code",
   "execution_count": 32,
   "id": "06cc932a",
   "metadata": {},
   "outputs": [],
   "source": [
    "#RETURN TRUE IF ANY NUMBER IS EVEN INSIDE A LIST"
   ]
  },
  {
   "cell_type": "code",
   "execution_count": 41,
   "id": "060fc8fd",
   "metadata": {},
   "outputs": [],
   "source": [
    "list=[1,2,3,4,5,6]\n",
    "def check_list(list):\n",
    "    for i in list:\n",
    "        if i %2==0:\n",
    "            return True\n",
    "        else:\n",
    "            pass #to pass apla dn tha kanei tipota apla tha paei sto epomeno\n",
    "    return False # to false prepei na mpei ekso apo ekso.\n",
    "#an den kanei meet to true tote na vgei"
   ]
  },
  {
   "cell_type": "code",
   "execution_count": 42,
   "id": "ab84262c",
   "metadata": {},
   "outputs": [
    {
     "data": {
      "text/plain": [
       "True"
      ]
     },
     "execution_count": 42,
     "metadata": {},
     "output_type": "execute_result"
    }
   ],
   "source": [
    "check_list([1,2,3,4,5,6])"
   ]
  },
  {
   "cell_type": "markdown",
   "id": "d23cb75b",
   "metadata": {},
   "source": [
    "## show us all the even number in the list"
   ]
  },
  {
   "cell_type": "code",
   "execution_count": 46,
   "id": "1ad212a8",
   "metadata": {},
   "outputs": [],
   "source": [
    "def check_even_list(numlist):\n",
    "    even_number = []\n",
    "    for i in numlist:\n",
    "        if i %2 ==0:\n",
    "            even_number.append(i)\n",
    "        else:\n",
    "            pass\n",
    "    return even_number"
   ]
  },
  {
   "cell_type": "code",
   "execution_count": 47,
   "id": "45376b7c",
   "metadata": {},
   "outputs": [
    {
     "data": {
      "text/plain": [
       "[2, 4, 6]"
      ]
     },
     "execution_count": 47,
     "metadata": {},
     "output_type": "execute_result"
    }
   ],
   "source": [
    "check_even_list([1,2,3,4,5,6])"
   ]
  },
  {
   "cell_type": "markdown",
   "id": "99aefdd6",
   "metadata": {},
   "source": [
    "## tuple upacking with functions"
   ]
  },
  {
   "cell_type": "code",
   "execution_count": 1,
   "id": "e79b8e43",
   "metadata": {},
   "outputs": [],
   "source": [
    "stock_prices = [(\"aapl\",200),(\"google\",400),(\"msft\",100)]"
   ]
  },
  {
   "cell_type": "code",
   "execution_count": 2,
   "id": "311a46d6",
   "metadata": {},
   "outputs": [
    {
     "name": "stdout",
     "output_type": "stream",
     "text": [
      "('aapl', 200)\n",
      "('google', 400)\n",
      "('msft', 100)\n"
     ]
    }
   ],
   "source": [
    "for item in stock_prices:\n",
    "    print(item)"
   ]
  },
  {
   "cell_type": "code",
   "execution_count": 5,
   "id": "e5ddbb24",
   "metadata": {},
   "outputs": [
    {
     "name": "stdout",
     "output_type": "stream",
     "text": [
      "aapl\n",
      "220.0\n",
      "google\n",
      "440.0\n",
      "msft\n",
      "110.0\n"
     ]
    }
   ],
   "source": [
    "for ticker,prices in stock_prices:\n",
    "    print(ticker)\n",
    "    print(prices+(prices * 0.1))"
   ]
  },
  {
   "cell_type": "code",
   "execution_count": 6,
   "id": "756765c4",
   "metadata": {},
   "outputs": [],
   "source": [
    "work_hours=[('abby',100),(\"Billy\",400),(\"Cassie\",800)]"
   ]
  },
  {
   "cell_type": "markdown",
   "id": "90db3af8",
   "metadata": {},
   "source": [
    "## return the employee of the month"
   ]
  },
  {
   "cell_type": "markdown",
   "id": "c5609236",
   "metadata": {},
   "source": [
    "### check the most hours and return the name and the hours"
   ]
  },
  {
   "cell_type": "code",
   "execution_count": 29,
   "id": "c1505f2b",
   "metadata": {},
   "outputs": [],
   "source": [
    "def hours(work_hours):\n",
    "    current_max = 0\n",
    "    employee_of_month=''\n",
    "    for name,hours in work_hours:\n",
    "        if hours > current_max:\n",
    "            current_max=hours #to kanoume etsi giati einai numeric\n",
    "            #mono se lista kanoume append\n",
    "            employee_of_month = name\n",
    "        else:\n",
    "            pass\n",
    "    \n",
    "    #return turple\n",
    "    return(employee_of_month,current_max)\n",
    "        "
   ]
  },
  {
   "cell_type": "code",
   "execution_count": 30,
   "id": "f78c9c0c",
   "metadata": {},
   "outputs": [
    {
     "data": {
      "text/plain": [
       "('Cassie', 800)"
      ]
     },
     "execution_count": 30,
     "metadata": {},
     "output_type": "execute_result"
    }
   ],
   "source": [
    "hours(work_hours)"
   ]
  },
  {
   "cell_type": "code",
   "execution_count": 31,
   "id": "b9e0500b",
   "metadata": {},
   "outputs": [],
   "source": [
    "name,hours = hours(work_hours)"
   ]
  },
  {
   "cell_type": "code",
   "execution_count": 32,
   "id": "a89ac002",
   "metadata": {},
   "outputs": [
    {
     "data": {
      "text/plain": [
       "'Cassie'"
      ]
     },
     "execution_count": 32,
     "metadata": {},
     "output_type": "execute_result"
    }
   ],
   "source": [
    "name"
   ]
  },
  {
   "cell_type": "code",
   "execution_count": 33,
   "id": "50c4694d",
   "metadata": {},
   "outputs": [
    {
     "data": {
      "text/plain": [
       "800"
      ]
     },
     "execution_count": 33,
     "metadata": {},
     "output_type": "execute_result"
    }
   ],
   "source": [
    "hours"
   ]
  },
  {
   "cell_type": "code",
   "execution_count": 34,
   "id": "8c72c61a",
   "metadata": {},
   "outputs": [],
   "source": [
    "#tupple unpacking"
   ]
  },
  {
   "cell_type": "markdown",
   "id": "2dd20582",
   "metadata": {},
   "source": [
    "###  args and kwargs"
   ]
  },
  {
   "cell_type": "markdown",
   "id": "af2590cd",
   "metadata": {},
   "source": [
    "### arguments and k word arguments"
   ]
  },
  {
   "cell_type": "code",
   "execution_count": 35,
   "id": "5b72bf32",
   "metadata": {},
   "outputs": [],
   "source": [
    "def myfunc(a,b):\n",
    "    #return 5% of the sum of a and b\n",
    "    return sum((a,b)) * 0.5\n",
    "#when we deal with multiple positional argyments like a and b we pass sum kai tetoia as tuple\n",
    "#position arguments einai to a kai b kai katw to 40 kai 60\n",
    "#paei analoga diladi a 40 kai b 60\n"
   ]
  },
  {
   "cell_type": "code",
   "execution_count": 36,
   "id": "c53383a5",
   "metadata": {},
   "outputs": [
    {
     "data": {
      "text/plain": [
       "50.0"
      ]
     },
     "execution_count": 36,
     "metadata": {},
     "output_type": "execute_result"
    }
   ],
   "source": [
    "myfunc(40,60)"
   ]
  },
  {
   "cell_type": "code",
   "execution_count": 37,
   "id": "e988e129",
   "metadata": {},
   "outputs": [],
   "source": [
    " #what if want to deal with more than 2 numbers?\n",
    "    #me parapanw noumera diladi\n",
    "    #an exoume 2 arguments den tha mas afisei mporoume na valoume mono 2\n",
    "    #opws kaname 60 kai 40"
   ]
  },
  {
   "cell_type": "code",
   "execution_count": 67,
   "id": "ef280bf3",
   "metadata": {},
   "outputs": [],
   "source": [
    "def myfunc(a,b,c=0):\n",
    "    return sum((a,b,c)) * 0.5\n",
    "#edw vazeis to c na exei default value kai an totou valoume\n",
    "#number apo katw exe kalos alliws tha parei to 0\n",
    "#auto einai mia lisi an theloume na doulepsoume me parapanw noumera\n",
    "#etsi mporoume na valoume kai d e = 0\n",
    "#alla kai pali tha exoume limit giati auta tha teleisoun\n",
    "#args and kwards let us put arbitary number diladi osous theloume"
   ]
  },
  {
   "cell_type": "code",
   "execution_count": 68,
   "id": "45652351",
   "metadata": {},
   "outputs": [],
   "source": [
    "def myfunc(*args):\n",
    "    return sum(args) * 0.5\n",
    "#twra edw dn to valame emeis se tuple valame mia parenthesi\n",
    "#dioti to args etsi k alliws einai tuple."
   ]
  },
  {
   "cell_type": "code",
   "execution_count": 69,
   "id": "e70632f2",
   "metadata": {},
   "outputs": [],
   "source": [
    "results=myfunc(200)"
   ]
  },
  {
   "cell_type": "raw",
   "id": "225a3373",
   "metadata": {},
   "source": []
  },
  {
   "cell_type": "code",
   "execution_count": 70,
   "id": "23d93c27",
   "metadata": {},
   "outputs": [
    {
     "data": {
      "text/plain": [
       "100.0"
      ]
     },
     "execution_count": 70,
     "metadata": {},
     "output_type": "execute_result"
    }
   ],
   "source": [
    "results"
   ]
  },
  {
   "cell_type": "code",
   "execution_count": 44,
   "id": "48d92bd0",
   "metadata": {},
   "outputs": [
    {
     "data": {
      "text/plain": [
       "60.0"
      ]
     },
     "execution_count": 44,
     "metadata": {},
     "output_type": "execute_result"
    }
   ],
   "source": [
    "myfunc(30,30,30,30)"
   ]
  },
  {
   "cell_type": "code",
   "execution_count": 45,
   "id": "8180f486",
   "metadata": {},
   "outputs": [],
   "source": [
    "#vlepeis oti me to args den exoume limit,ta kanei oso kai na valoume \n",
    "#antithetos me ta alla pou prepei na exoume default values"
   ]
  },
  {
   "cell_type": "code",
   "execution_count": 46,
   "id": "cf682371",
   "metadata": {},
   "outputs": [],
   "source": [
    "# an kanoume print tha mas vgei tuple"
   ]
  },
  {
   "cell_type": "code",
   "execution_count": 50,
   "id": "ec660146",
   "metadata": {},
   "outputs": [],
   "source": [
    "def myfunc(*args):\n",
    "    for item in args:\n",
    "        print(item)"
   ]
  },
  {
   "cell_type": "code",
   "execution_count": 51,
   "id": "13484bb4",
   "metadata": {},
   "outputs": [
    {
     "name": "stdout",
     "output_type": "stream",
     "text": [
      "20\n",
      "10\n"
     ]
    }
   ],
   "source": [
    "myfunc(20,10)"
   ]
  },
  {
   "cell_type": "markdown",
   "id": "63345291",
   "metadata": {},
   "source": [
    "### etsi doulevei kai to kwargs exoume aperioristo arithmo arguments\n",
    "### ftiaxnei dictionarry me keyword pairs "
   ]
  },
  {
   "cell_type": "code",
   "execution_count": 58,
   "id": "cb0b8bc2",
   "metadata": {},
   "outputs": [],
   "source": [
    "def myfunc(**kwards):# return back a dictionari\n",
    "    print(kwards)\n",
    "    if \"fruit\" in kwards:\n",
    "        print(\"my fruit of choice is {}\".format(kwards['fruit']))\n",
    "    else:\n",
    "        print(\"i didnot find any fruits\")"
   ]
  },
  {
   "cell_type": "code",
   "execution_count": 59,
   "id": "92c2a1a7",
   "metadata": {},
   "outputs": [
    {
     "name": "stdout",
     "output_type": "stream",
     "text": [
      "{'fruit': 'apple', 'veggie': 'lettuce'}\n",
      "my fruit of choice is apple\n"
     ]
    }
   ],
   "source": [
    "myfunc(fruit=\"apple\",veggie='lettuce')"
   ]
  },
  {
   "cell_type": "code",
   "execution_count": null,
   "id": "57d64748",
   "metadata": {},
   "outputs": [],
   "source": []
  },
  {
   "cell_type": "code",
   "execution_count": 72,
   "id": "889dffdc",
   "metadata": {},
   "outputs": [],
   "source": [
    "def myfunc(*args,**kwargs):\n",
    "    print(\"i would like {} {}\".format(args[2],kwargs['Food']))"
   ]
  },
  {
   "cell_type": "code",
   "execution_count": 73,
   "id": "556fb615",
   "metadata": {},
   "outputs": [
    {
     "name": "stdout",
     "output_type": "stream",
     "text": [
      "i would like 30 eggs\n"
     ]
    }
   ],
   "source": [
    "myfunc(10,20,30,fruit='orange',Food='eggs',anima='dog')"
   ]
  },
  {
   "cell_type": "code",
   "execution_count": null,
   "id": "39617e16",
   "metadata": {},
   "outputs": [],
   "source": []
  }
 ],
 "metadata": {
  "kernelspec": {
   "display_name": "Python 3",
   "language": "python",
   "name": "python3"
  },
  "language_info": {
   "codemirror_mode": {
    "name": "ipython",
    "version": 3
   },
   "file_extension": ".py",
   "mimetype": "text/x-python",
   "name": "python",
   "nbconvert_exporter": "python",
   "pygments_lexer": "ipython3",
   "version": "3.8.8"
  }
 },
 "nbformat": 4,
 "nbformat_minor": 5
}
