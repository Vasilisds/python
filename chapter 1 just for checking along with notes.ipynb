{
 "cells": [
  {
   "cell_type": "code",
   "execution_count": 1,
   "id": "446a6224",
   "metadata": {},
   "outputs": [],
   "source": [
    "import pandas as pd\n",
    "import numpy as np\n",
    "import seaborn as sns\n",
    "import matplotlib.pyplot as plt\n",
    "import warnings\n",
    "%matplotlib inline\n",
    "warnings.filterwarnings('ignore')"
   ]
  },
  {
   "cell_type": "code",
   "execution_count": 2,
   "id": "fedbba41",
   "metadata": {},
   "outputs": [],
   "source": [
    "df=pd.read_csv(r\"C:\\Users\\Nomitech\\Desktop\\Machine learning\\Boston Dataset.csv\")"
   ]
  },
  {
   "cell_type": "code",
   "execution_count": 3,
   "id": "5cde6e0f",
   "metadata": {},
   "outputs": [],
   "source": [
    "\n",
    "x = df.drop(columns=['medv','rad'])\n",
    "y = df['medv']"
   ]
  },
  {
   "cell_type": "code",
   "execution_count": null,
   "id": "2ce31531",
   "metadata": {},
   "outputs": [],
   "source": []
  },
  {
   "cell_type": "code",
   "execution_count": 4,
   "id": "9dfe31de",
   "metadata": {},
   "outputs": [],
   "source": [
    "##normilize some columns that need normalization\n",
    "cols = ['crim','zn','tax','black']\n",
    "##Standardization\n",
    "from sklearn import preprocessing \n",
    "scalar = preprocessing.StandardScaler()\n",
    "#fit our data\n",
    "scaled_cols= scalar.fit_transform(df[cols])\n",
    "scaled_cols=pd.DataFrame(scaled_cols,columns=cols)"
   ]
  },
  {
   "cell_type": "code",
   "execution_count": 5,
   "id": "c9f1f44c",
   "metadata": {},
   "outputs": [],
   "source": [
    "from sklearn.model_selection import cross_val_score,train_test_split\n",
    "x_train,x_test,y_train,y_test=train_test_split(x,y,random_state=42,test_size=0.3)"
   ]
  },
  {
   "cell_type": "markdown",
   "id": "ce487bad",
   "metadata": {},
   "source": [
    "### Linear regression with stochastic gradient descent"
   ]
  },
  {
   "cell_type": "code",
   "execution_count": 9,
   "id": "15f2f126",
   "metadata": {},
   "outputs": [
    {
     "data": {
      "text/plain": [
       "SGDRegressor(eta0=0.1, max_iter=50, penalty=None)"
      ]
     },
     "execution_count": 9,
     "metadata": {},
     "output_type": "execute_result"
    }
   ],
   "source": [
    "from sklearn.linear_model import SGDRegressor\n",
    "sgd_reg = SGDRegressor(max_iter=50, penalty=None, eta0=0.1) \n",
    "\n",
    "##pigainei max iter diladi kanei itteration 50 fores mesa sto training\n",
    "#gia auto legete stochastic pigainei tuxeia\n",
    "sgd_reg.fit(x_train,y_train)"
   ]
  },
  {
   "cell_type": "code",
   "execution_count": 11,
   "id": "671f19e3",
   "metadata": {},
   "outputs": [],
   "source": [
    "stochastic_pred=sgd_reg.predict(x_test)"
   ]
  },
  {
   "cell_type": "code",
   "execution_count": 12,
   "id": "28082035",
   "metadata": {},
   "outputs": [
    {
     "name": "stdout",
     "output_type": "stream",
     "text": [
      "2081270789854340.2\n"
     ]
    }
   ],
   "source": [
    "from sklearn.metrics import mean_squared_error\n",
    "\n",
    "lin_mse = mean_squared_error(y_test,stochastic_pred)\n",
    "lin_rmse=np.sqrt(lin_mse)\n",
    "print(lin_rmse)"
   ]
  },
  {
   "cell_type": "markdown",
   "id": "fa044961",
   "metadata": {},
   "source": [
    "Polynomial Regression\n",
    "What if your data is actually more complex than a simple straight line? Surprisingly,\n",
    "you can actually use a linear model to fit nonlinear data. A simple way to do this is to\n",
    "add powers of each feature as new features, then train a linear model on this extended\n",
    "set of features. This technique is called Polynomial Regression.\n"
   ]
  },
  {
   "cell_type": "code",
   "execution_count": 14,
   "id": "8d3b8597",
   "metadata": {},
   "outputs": [
    {
     "data": {
      "text/plain": [
       "LinearRegression()"
      ]
     },
     "execution_count": 14,
     "metadata": {},
     "output_type": "execute_result"
    }
   ],
   "source": [
    "from sklearn.linear_model import LinearRegression\n",
    "from sklearn.preprocessing import PolynomialFeatures\n",
    "\n",
    "poly_features = PolynomialFeatures(degree=2,include_bias=False)\n",
    "x_poly = poly_features.fit_transform(x)\n",
    "lin_reg=LinearRegression()\n",
    "lin_reg.fit(x_poly,y)"
   ]
  },
  {
   "cell_type": "code",
   "execution_count": 15,
   "id": "f373de20",
   "metadata": {},
   "outputs": [
    {
     "data": {
      "text/plain": [
       "(-95.57285457376011,\n",
       " array([-1.40362931e-02, -7.42190602e+00,  7.21847868e-03, -3.50005659e+00,\n",
       "         2.77788628e+01,  1.93582999e+01,  2.16295299e+01,  8.31339833e-01,\n",
       "        -4.34922508e+00,  9.74590421e-02, -5.12343563e-01,  8.64000882e-02,\n",
       "         9.19807085e-01, -5.00145015e-05,  4.05666676e-03,  5.40476003e-05,\n",
       "        -1.73897047e-03, -1.39334093e-02, -9.67612750e-03,  1.02269833e-02,\n",
       "        -7.32421146e-05, -6.13664258e-03, -8.64705715e-06, -2.09058416e-04,\n",
       "         1.03636212e-05,  2.10644175e-03,  1.29941051e-03,  4.23042945e-02,\n",
       "         2.45711494e-01,  2.83354620e+00, -1.23905063e+00,  2.02463177e-01,\n",
       "        -1.50330247e-03, -2.60387530e-01, -1.28181257e-02,  4.66737243e-01,\n",
       "        -2.48027316e-04,  2.04932518e-02,  2.73400534e-04,  9.86261351e-04,\n",
       "        -4.87573199e-02,  1.46415979e-01, -1.38839317e-02, -8.73402627e-04,\n",
       "        -5.07621533e-03,  4.61422891e-04, -4.65514138e-03,  1.39022308e-04,\n",
       "        -8.86805075e-03,  7.18137728e-03, -1.82875001e-01,  3.48755046e+00,\n",
       "         3.83366917e-01, -1.18408827e-03,  1.33543672e-01, -1.18755054e-04,\n",
       "        -9.94224754e-02,  1.94873416e-03,  5.15434683e-03,  2.77788628e+01,\n",
       "        -2.45598652e+01, -5.47366771e+00,  3.43426845e-02,  1.34592026e+00,\n",
       "        -1.63221136e-03, -5.33982952e-01,  9.33563404e-03, -3.50448116e-01,\n",
       "        -2.21635162e+01,  1.02493650e+00, -3.16363569e-01,  8.68723484e+00,\n",
       "        -9.14224283e-02, -1.45161782e+00, -8.94367655e-03,  1.50506450e+00,\n",
       "         3.47156556e-01, -5.01880943e-02,  2.53615885e-01, -2.94838815e-02,\n",
       "        -5.95308486e-01, -8.52961278e-04, -2.24817340e-01, -1.05088010e-04,\n",
       "        -6.87762264e-05,  2.27910746e-04, -5.26926244e-03, -8.14340416e-04,\n",
       "        -4.45582546e-03,  4.62243148e-01, -4.59365418e-03, -1.11982980e-01,\n",
       "        -1.04121194e-02,  1.18122294e-01,  9.21228111e-05,  8.20087557e-03,\n",
       "        -9.42708506e-05, -3.97633133e-03,  6.63015426e-02,  3.56928964e-03,\n",
       "        -5.58254864e-03, -3.58744211e-05, -3.31038826e-04,  1.37045803e-02]))"
      ]
     },
     "execution_count": 15,
     "metadata": {},
     "output_type": "execute_result"
    }
   ],
   "source": []
  },
  {
   "cell_type": "markdown",
   "id": "0628b9e8",
   "metadata": {},
   "source": [
    "###  Regularized methods"
   ]
  },
  {
   "cell_type": "code",
   "execution_count": 16,
   "id": "3d0d1218",
   "metadata": {},
   "outputs": [
    {
     "data": {
      "text/plain": [
       "Ridge(alpha=1, solver='cholesky')"
      ]
     },
     "execution_count": 16,
     "metadata": {},
     "output_type": "execute_result"
    }
   ],
   "source": [
    "from sklearn.linear_model import Ridge\n",
    "ridge_reg = Ridge(alpha=1,solver='cholesky')\n",
    "ridge_reg.fit(x_train,y_train)"
   ]
  },
  {
   "cell_type": "code",
   "execution_count": 17,
   "id": "97414031",
   "metadata": {},
   "outputs": [
    {
     "data": {
      "text/plain": [
       "SGDRegressor()"
      ]
     },
     "execution_count": 17,
     "metadata": {},
     "output_type": "execute_result"
    }
   ],
   "source": [
    "##and regularized stochastic\n",
    "sgd_reg = SGDRegressor(penalty='l2') ##Ridge Regression\n",
    "sgd_reg.fit(x_train,y_train.ravel())\n",
    "##Vres ti einai to ravel"
   ]
  },
  {
   "cell_type": "code",
   "execution_count": 21,
   "id": "caf2d572",
   "metadata": {},
   "outputs": [
    {
     "data": {
      "text/plain": [
       "Lasso(alpha=0.1)"
      ]
     },
     "execution_count": 21,
     "metadata": {},
     "output_type": "execute_result"
    }
   ],
   "source": [
    "## lasso\n",
    "from sklearn.linear_model import Lasso\n",
    "lasso_reg = Lasso(alpha=0.1)\n",
    "lasso_reg.fit(x_train,y_train)\n"
   ]
  },
  {
   "cell_type": "code",
   "execution_count": null,
   "id": "9e4f2f52",
   "metadata": {},
   "outputs": [],
   "source": [
    "##and regularized stochastic\n",
    "sgd_reg = SGDRegressor(penalty='l1') ##lasso\n",
    "sgd_reg.fit(x_train,y_train.ravel())\n",
    "##Vres ti einai to ravel"
   ]
  },
  {
   "cell_type": "markdown",
   "id": "2105e123",
   "metadata": {},
   "source": [
    "So when should you use plain Linear Regression (i.e., without any regularization),\n",
    "Ridge, Lasso, or Elastic Net? It is almost always preferable to have at least a little bit of\n",
    "regularization, so generally you should avoid plain Linear Regression. Ridge is a good\n",
    "default, but if you suspect that only a few features are actually useful, you should pre‐\n",
    "fer Lasso or Elastic Net since they tend to reduce the useless features’ weights down to\n",
    "zero as we have discussed. In general, Elastic Net is preferred over Lasso since Lasso\n",
    "may behave erratically when the number of features is greater than the number of\n",
    "training instances or when several features are strongly correlated"
   ]
  },
  {
   "cell_type": "code",
   "execution_count": 24,
   "id": "001c6f80",
   "metadata": {},
   "outputs": [
    {
     "data": {
      "text/plain": [
       "ElasticNet(alpha=0.1)"
      ]
     },
     "execution_count": 24,
     "metadata": {},
     "output_type": "execute_result"
    }
   ],
   "source": [
    "from sklearn.linear_model import ElasticNet\n",
    "elastic_net = ElasticNet(alpha=0.1,l1_ratio=0.5)\n",
    "elastic_net.fit(x_train,y_train)"
   ]
  },
  {
   "cell_type": "code",
   "execution_count": 25,
   "id": "cbe0cc7b",
   "metadata": {},
   "outputs": [
    {
     "data": {
      "text/plain": [
       "array([28.32454455, 34.22568187, 17.43462316, 25.76457057, 18.69168751,\n",
       "       22.66775978, 17.09247533, 14.79213083, 20.54629995, 20.99903812,\n",
       "       21.557569  , 18.66677754, -6.5194367 , 21.73359766, 19.10111727,\n",
       "       24.88739875, 18.24652745,  5.05008843, 39.4386096 , 17.47737889,\n",
       "       27.3534537 , 29.30388631, 11.74377567, 24.64299301, 18.26726072,\n",
       "       14.12805409, 23.50995335, 14.45099756, 19.51882124, 20.03099179,\n",
       "       21.68310648, 25.31952143, 24.87609078, 20.22912848, 14.23818712,\n",
       "       21.25826496, 31.37622427, 20.59365836, 21.67922634, 25.02113829,\n",
       "       14.20590741, 30.08678397, 40.74963035, 18.34015018, 27.66720424,\n",
       "       17.14706269, 14.83349195, 26.24628236, 18.38505761, 32.25385705,\n",
       "       21.68524338, 32.6338172 , 16.51493418, 27.52329361, 39.0975229 ,\n",
       "       21.98903791, 19.17299589, 32.34598111, 24.97170433, 12.28354908,\n",
       "       22.84563265, 30.85089728, 31.57874823, 18.59846835, 23.24259489,\n",
       "       13.480385  , 19.90071488, 26.60254135, 31.74831045, 12.03337155,\n",
       "       20.20819127, 25.52150067, 11.1006333 , 19.34733006, 23.93206851,\n",
       "        5.31808015, 22.43024472, 39.50538246, 17.35435657, 11.27485906,\n",
       "       22.17456801, 10.50887991, 22.68776533,  9.08555564, 22.90432256,\n",
       "       29.57409927, 19.00079642, 25.97709356, 28.66288028, 21.50576301,\n",
       "       25.9007664 ,  5.32226294, 21.99654448, 16.35646879, 15.93304621,\n",
       "       22.73571289, 24.06052006, -2.56336082, 14.30620694, 13.62472859,\n",
       "       22.02802751, 24.80126814,  9.09442535, 22.00577688, 24.43706849,\n",
       "       10.29013869, 20.32076709, 26.39139199, 21.7069833 , 26.6267202 ,\n",
       "        7.59797638, 16.9214147 , 22.78070817, 26.71611588, 31.05357849,\n",
       "       15.78174751, 33.19872772, 14.45690881, 21.97861655, 28.14825232,\n",
       "       15.65422649, 25.28830177,  5.43521754, 25.08568143, 26.53489689,\n",
       "       23.42067681, 26.31660511, 32.52557831, 22.9918857 , 36.27427541,\n",
       "       11.24173244, 26.91040198, 19.15343991, 21.08302168, 12.78087045,\n",
       "       19.64977556, 22.75392885, 32.14716773, 31.67732305, 16.70757019,\n",
       "       18.32065261, 29.17732409, 25.23750591, 13.60438142,  6.7099924 ,\n",
       "       25.10582694, 25.40839809, 17.5277434 , 14.26996458, 38.2529214 ,\n",
       "       16.75949476, 18.7470003 ])"
      ]
     },
     "execution_count": 25,
     "metadata": {},
     "output_type": "execute_result"
    }
   ],
   "source": [
    "elastic_net.predict(x_test)"
   ]
  },
  {
   "cell_type": "code",
   "execution_count": null,
   "id": "1fbdcbef",
   "metadata": {},
   "outputs": [],
   "source": []
  },
  {
   "cell_type": "code",
   "execution_count": null,
   "id": "a945b84e",
   "metadata": {},
   "outputs": [],
   "source": [
    "softmax_reg = LogisticRegression(multi_class=\"multinomial\",solver=\"lbfgs\", C=10)\n",
    "softmax_reg.fit(X, y)\n",
    "###softmax"
   ]
  },
  {
   "cell_type": "code",
   "execution_count": null,
   "id": "bc5b4a38",
   "metadata": {},
   "outputs": [],
   "source": []
  },
  {
   "cell_type": "code",
   "execution_count": 6,
   "id": "cc65f27a",
   "metadata": {},
   "outputs": [
    {
     "data": {
      "text/plain": [
       "LinearRegression()"
      ]
     },
     "execution_count": 6,
     "metadata": {},
     "output_type": "execute_result"
    }
   ],
   "source": [
    "from sklearn.linear_model import LinearRegression\n",
    "lin_reg=LinearRegression()\n",
    "lin_reg.fit(x_train,y_train)"
   ]
  },
  {
   "cell_type": "code",
   "execution_count": 7,
   "id": "e54367fe",
   "metadata": {},
   "outputs": [
    {
     "data": {
      "text/plain": [
       "array([28.50005027, 36.21275439, 18.73971189, 25.91322765, 18.05590449,\n",
       "       24.05293709, 17.09430753, 15.57187555, 21.66925266, 20.61280628,\n",
       "       24.10643729, 18.5384357 , -6.30823781, 22.83806794, 18.58512158,\n",
       "       25.40147944, 18.59795339,  4.93094103, 39.95149355, 16.86012414,\n",
       "       26.84565719, 29.39267446, 11.69134303, 24.0120113 , 17.37349377,\n",
       "       14.64944103, 24.15107936, 14.32945519, 22.19055375, 19.35432538,\n",
       "       21.80119956, 24.86249073, 25.30915447, 17.71069454, 15.41491117,\n",
       "       18.3869364 , 31.49081599, 19.21767627, 24.01746814, 25.46186011,\n",
       "       13.88762606, 30.12651371, 41.4827136 , 18.5274753 , 27.7236337 ,\n",
       "       16.37731342, 14.5107157 , 26.73130573, 19.12801824, 31.4212814 ,\n",
       "       21.29959125, 32.81511304, 16.45152766, 27.56452413, 38.69363177,\n",
       "       21.9973795 , 18.17666833, 32.12925307, 25.09393548, 12.32654849,\n",
       "       22.30279155, 30.19726805, 31.15749366, 17.38260331, 22.25687235,\n",
       "       16.26038001, 19.77009363, 26.44446619, 31.1854772 , 11.419352  ,\n",
       "       20.36187772, 26.44570962, 10.51176915, 17.21782281, 24.97338727,\n",
       "        5.5627105 , 22.61467082, 40.20019619, 17.90424741, 12.74344108,\n",
       "       22.17725234, 11.93298515, 22.04396766,  8.60469391, 22.689726  ,\n",
       "       31.69883391, 18.55793512, 25.34100256, 28.81970862, 21.61761576,\n",
       "       25.58745426,  5.40707502, 21.72535054, 16.01855951, 12.7080469 ,\n",
       "       22.39366647, 24.04707258, -1.08116627, 13.67363623, 15.36735999,\n",
       "       22.24426527, 25.73599648,  9.76723408, 20.63925487, 24.03509529,\n",
       "       11.5108976 , 19.31814525, 25.44629719, 20.08858496, 25.58782864,\n",
       "        7.51949106, 18.62740132, 21.15021966, 26.52726377, 31.48894586,\n",
       "       15.01596261, 33.96876839, 13.75718217, 21.12362339, 28.12128259,\n",
       "       15.20764416, 24.78313778,  5.251074  , 25.07050022, 26.0176526 ,\n",
       "       22.70121709, 25.46869425, 32.6924806 , 22.34266709, 37.16330162,\n",
       "       12.30078904, 26.99349604, 18.54957694, 21.77779144, 10.59660253,\n",
       "       20.4072101 , 21.45701601, 31.49531971, 31.68848485, 16.21144288,\n",
       "       17.72328892, 28.9466897 , 25.22019223, 16.51005106,  6.67033551,\n",
       "       25.8285535 , 24.71542502, 16.86769724, 14.08896664, 39.6593155 ,\n",
       "       16.23374697, 17.68782588])"
      ]
     },
     "execution_count": 7,
     "metadata": {},
     "output_type": "execute_result"
    }
   ],
   "source": [
    "lin_reg.predict(x_test)"
   ]
  },
  {
   "cell_type": "code",
   "execution_count": 8,
   "id": "97e64203",
   "metadata": {},
   "outputs": [],
   "source": [
    "from sklearn.metrics import mean_squared_error\n",
    "pred = lin_reg.predict(x_test)\n",
    "lin_mse = mean_squared_error(y_test,pred)\n",
    "lin_rmse=np.sqrt(lin_mse)"
   ]
  },
  {
   "cell_type": "code",
   "execution_count": 9,
   "id": "2a7efdf8",
   "metadata": {},
   "outputs": [
    {
     "data": {
      "text/plain": [
       "4.853220362568736"
      ]
     },
     "execution_count": 9,
     "metadata": {},
     "output_type": "execute_result"
    }
   ],
   "source": [
    "lin_rmse"
   ]
  },
  {
   "cell_type": "markdown",
   "id": "d99c8853",
   "metadata": {},
   "source": [
    "### the model underfiting lets fix it"
   ]
  },
  {
   "cell_type": "code",
   "execution_count": 10,
   "id": "e95aac57",
   "metadata": {},
   "outputs": [
    {
     "data": {
      "text/plain": [
       "DecisionTreeRegressor()"
      ]
     },
     "execution_count": 10,
     "metadata": {},
     "output_type": "execute_result"
    }
   ],
   "source": [
    "from sklearn.tree import DecisionTreeRegressor\n",
    "tree_reg = DecisionTreeRegressor()\n",
    "tree_reg.fit(x_train,y_train)"
   ]
  },
  {
   "cell_type": "code",
   "execution_count": 11,
   "id": "0452937b",
   "metadata": {},
   "outputs": [],
   "source": [
    "tree_pred = tree_reg.predict(x_test)\n",
    "tree_mse = mean_squared_error(y_test,tree_pred)\n",
    "tree_rmse=np.sqrt(tree_mse)"
   ]
  },
  {
   "cell_type": "code",
   "execution_count": 12,
   "id": "a14f7b69",
   "metadata": {},
   "outputs": [
    {
     "data": {
      "text/plain": [
       "4.640078549698099"
      ]
     },
     "execution_count": 12,
     "metadata": {},
     "output_type": "execute_result"
    }
   ],
   "source": [
    "tree_rmse"
   ]
  },
  {
   "cell_type": "code",
   "execution_count": 13,
   "id": "037588ae",
   "metadata": {},
   "outputs": [
    {
     "data": {
      "text/plain": [
       "DecisionTreeRegressor(max_depth=3)"
      ]
     },
     "execution_count": 13,
     "metadata": {},
     "output_type": "execute_result"
    }
   ],
   "source": [
    "from sklearn.tree import DecisionTreeRegressor\n",
    "tree_reg2 = DecisionTreeRegressor(max_depth=3)\n",
    "tree_reg2.fit(x_train,y_train)"
   ]
  },
  {
   "cell_type": "code",
   "execution_count": 14,
   "id": "33d5f0f7",
   "metadata": {},
   "outputs": [],
   "source": [
    "tree_pred2 = tree_reg2.predict(x_test)\n",
    "tree_mse = mean_squared_error(y_test,tree_pred2)\n",
    "tree_rmse=np.sqrt(tree_mse)"
   ]
  },
  {
   "cell_type": "code",
   "execution_count": 15,
   "id": "24daab5c",
   "metadata": {},
   "outputs": [
    {
     "data": {
      "text/plain": [
       "4.4531471209345295"
      ]
     },
     "execution_count": 15,
     "metadata": {},
     "output_type": "execute_result"
    }
   ],
   "source": [
    "tree_rmse"
   ]
  },
  {
   "cell_type": "markdown",
   "id": "4508c1dd",
   "metadata": {},
   "source": [
    "### Cross Validation instead of train_Test_split"
   ]
  },
  {
   "cell_type": "code",
   "execution_count": 16,
   "id": "52647d7b",
   "metadata": {},
   "outputs": [
    {
     "name": "stdout",
     "output_type": "stream",
     "text": [
      "[4.18526828 3.45545888 3.0724583  6.38000861 3.96556254 6.99299369\n",
      " 4.04823418 9.94002012 9.95931725 6.38606295]\n"
     ]
    }
   ],
   "source": [
    "from sklearn.model_selection import cross_val_score\n",
    "scores = cross_val_score(tree_reg,x,y,scoring='neg_mean_squared_error',cv=10)\n",
    "tree_rmse_scores = np.sqrt(-scores)\n",
    "print(tree_rmse_scores)"
   ]
  },
  {
   "cell_type": "code",
   "execution_count": 17,
   "id": "328607a0",
   "metadata": {},
   "outputs": [
    {
     "name": "stdout",
     "output_type": "stream",
     "text": [
      "scores [4.18526828 3.45545888 3.0724583  6.38000861 3.96556254 6.99299369\n",
      " 4.04823418 9.94002012 9.95931725 6.38606295]\n",
      "mean 5.83853848007894\n",
      "Standard deviations 2.4187911794073234\n"
     ]
    }
   ],
   "source": [
    "def display_scores(scores):\n",
    "    print(\"scores\",scores)\n",
    "    print(\"mean\",scores.mean())\n",
    "    print(\"Standard deviations\",scores.std())\n",
    "display_scores(tree_rmse_scores)    "
   ]
  },
  {
   "cell_type": "code",
   "execution_count": 18,
   "id": "fa9761a1",
   "metadata": {},
   "outputs": [
    {
     "name": "stdout",
     "output_type": "stream",
     "text": [
      "[4.18526828 3.45545888 3.0724583  6.38000861 3.96556254 6.99299369\n",
      " 4.04823418 9.94002012 9.95931725 6.38606295]\n"
     ]
    }
   ],
   "source": [
    "from sklearn.model_selection import cross_val_score\n",
    "scores1 = cross_val_score(tree_reg2,x,y,scoring='neg_mean_squared_error',cv=10)\n",
    "tree_rmse_scores1 = np.sqrt(-scores1)\n",
    "print(tree_rmse_scores)"
   ]
  },
  {
   "cell_type": "code",
   "execution_count": 19,
   "id": "b60e76ed",
   "metadata": {},
   "outputs": [
    {
     "name": "stdout",
     "output_type": "stream",
     "text": [
      "scores [ -15.34585196  -15.66084277  -11.03302853  -32.78094215  -20.08730124\n",
      "  -72.01772159  -27.38303932 -101.98850738  -65.51431185  -19.8074093 ]\n",
      "mean -38.16189560804196\n",
      "Standard deviations 29.222883472919964\n"
     ]
    }
   ],
   "source": [
    "def display_scores(scores):\n",
    "    print(\"scores\",scores1)\n",
    "    print(\"mean\",scores1.mean())\n",
    "    print(\"Standard deviations\",scores1.std())\n",
    "display_scores(tree_rmse_scores1)   "
   ]
  },
  {
   "cell_type": "code",
   "execution_count": 20,
   "id": "7e2d241c",
   "metadata": {},
   "outputs": [
    {
     "name": "stdout",
     "output_type": "stream",
     "text": [
      "[4.18526828 3.45545888 3.0724583  6.38000861 3.96556254 6.99299369\n",
      " 4.04823418 9.94002012 9.95931725 6.38606295]\n"
     ]
    }
   ],
   "source": [
    "from sklearn.model_selection import cross_val_score\n",
    "scores2 = cross_val_score(tree_reg,x,y,scoring='neg_mean_squared_error',cv=10)\n",
    "tree_rmse_scores2 = np.sqrt(-scores2)\n",
    "print(tree_rmse_scores)"
   ]
  },
  {
   "cell_type": "code",
   "execution_count": 21,
   "id": "d6894910",
   "metadata": {},
   "outputs": [
    {
     "data": {
      "text/plain": [
       "RandomForestRegressor()"
      ]
     },
     "execution_count": 21,
     "metadata": {},
     "output_type": "execute_result"
    }
   ],
   "source": [
    "from sklearn.ensemble import RandomForestRegressor\n",
    "forest_reg = RandomForestRegressor()\n",
    "forest_reg.fit(x_train,y_train)"
   ]
  },
  {
   "cell_type": "code",
   "execution_count": 22,
   "id": "b51cc629",
   "metadata": {},
   "outputs": [
    {
     "data": {
      "text/plain": [
       "array([3.2452347 , 2.30261528, 1.97163977, 4.4289196 , 3.34403002,\n",
       "       4.82226866, 3.04063382, 9.93590471, 5.08268998, 4.56914055])"
      ]
     },
     "execution_count": 22,
     "metadata": {},
     "output_type": "execute_result"
    }
   ],
   "source": [
    "from sklearn.model_selection import cross_val_score\n",
    "score_forest = cross_val_score(forest_reg,x,y,scoring='neg_mean_squared_error',cv=10)\n",
    "forset_rmse_score = np.sqrt(-score_forest)\n",
    "forset_rmse_score\n"
   ]
  },
  {
   "cell_type": "code",
   "execution_count": 23,
   "id": "b3f30a0e",
   "metadata": {},
   "outputs": [
    {
     "data": {
      "text/plain": [
       "4.274307708252198"
      ]
     },
     "execution_count": 23,
     "metadata": {},
     "output_type": "execute_result"
    }
   ],
   "source": [
    "forset_rmse_score.mean()"
   ]
  },
  {
   "cell_type": "markdown",
   "id": "17a08bd4",
   "metadata": {},
   "source": [
    "###  Fine-tune our model"
   ]
  },
  {
   "cell_type": "code",
   "execution_count": 24,
   "id": "93e544b4",
   "metadata": {},
   "outputs": [],
   "source": [
    "from sklearn.model_selection import GridSearchCV\n",
    "param_grid = [\n",
    " {'n_estimators': [3, 10, 30], 'max_features': [2, 4, 6, 8]},\n",
    " {'bootstrap': [False], 'n_estimators': [3, 10], 'max_features': [2, 3, 4]},\n",
    " ]\n"
   ]
  },
  {
   "cell_type": "code",
   "execution_count": 25,
   "id": "2b7213b5",
   "metadata": {},
   "outputs": [
    {
     "data": {
      "text/plain": [
       "GridSearchCV(cv=5, estimator=RandomForestRegressor(),\n",
       "             param_grid=[{'max_features': [2, 4, 6, 8],\n",
       "                          'n_estimators': [3, 10, 30]},\n",
       "                         {'bootstrap': [False], 'max_features': [2, 3, 4],\n",
       "                          'n_estimators': [3, 10]}],\n",
       "             scoring='neg_mean_squared_error')"
      ]
     },
     "execution_count": 25,
     "metadata": {},
     "output_type": "execute_result"
    }
   ],
   "source": [
    "forest_reg  = RandomForestRegressor()\n",
    "grid_search = GridSearchCV(forest_reg,param_grid,cv=5,scoring='neg_mean_squared_error')\n",
    "grid_search.fit(x_train,y_train)"
   ]
  },
  {
   "cell_type": "code",
   "execution_count": 26,
   "id": "e6fe2877",
   "metadata": {},
   "outputs": [
    {
     "data": {
      "text/plain": [
       "{'max_features': 6, 'n_estimators': 30}"
      ]
     },
     "execution_count": 26,
     "metadata": {},
     "output_type": "execute_result"
    }
   ],
   "source": [
    "grid_search.best_params_"
   ]
  },
  {
   "cell_type": "code",
   "execution_count": 27,
   "id": "34556a55",
   "metadata": {},
   "outputs": [
    {
     "data": {
      "text/plain": [
       "RandomForestRegressor(max_features=6, n_estimators=30)"
      ]
     },
     "execution_count": 27,
     "metadata": {},
     "output_type": "execute_result"
    }
   ],
   "source": [
    "grid_search.best_estimator_"
   ]
  },
  {
   "cell_type": "code",
   "execution_count": 28,
   "id": "870f4a5d",
   "metadata": {},
   "outputs": [
    {
     "name": "stdout",
     "output_type": "stream",
     "text": [
      "4.842650996999382 {'max_features': 2, 'n_estimators': 3}\n",
      "4.310162999060571 {'max_features': 2, 'n_estimators': 10}\n",
      "3.9400395775951123 {'max_features': 2, 'n_estimators': 30}\n",
      "4.426905492818086 {'max_features': 4, 'n_estimators': 3}\n",
      "3.8867941008360294 {'max_features': 4, 'n_estimators': 10}\n",
      "3.801709606484517 {'max_features': 4, 'n_estimators': 30}\n",
      "4.800594791376883 {'max_features': 6, 'n_estimators': 3}\n",
      "4.074551486346605 {'max_features': 6, 'n_estimators': 10}\n",
      "3.710872692862634 {'max_features': 6, 'n_estimators': 30}\n",
      "4.800661264906234 {'max_features': 8, 'n_estimators': 3}\n",
      "3.8419398326975926 {'max_features': 8, 'n_estimators': 10}\n",
      "3.738319376988002 {'max_features': 8, 'n_estimators': 30}\n",
      "4.87579263420415 {'bootstrap': False, 'max_features': 2, 'n_estimators': 3}\n",
      "4.191712142803794 {'bootstrap': False, 'max_features': 2, 'n_estimators': 10}\n",
      "4.349855942993194 {'bootstrap': False, 'max_features': 3, 'n_estimators': 3}\n",
      "3.7124671166968373 {'bootstrap': False, 'max_features': 3, 'n_estimators': 10}\n",
      "3.9196274523326022 {'bootstrap': False, 'max_features': 4, 'n_estimators': 3}\n",
      "3.8493779031745756 {'bootstrap': False, 'max_features': 4, 'n_estimators': 10}\n"
     ]
    }
   ],
   "source": [
    "##Evaluate our score\n",
    "cvres = grid_search.cv_results_\n",
    "for mean_score,params in zip(cvres['mean_test_score'],cvres['params']):\n",
    "    print(np.sqrt(-mean_score),params)"
   ]
  },
  {
   "cell_type": "code",
   "execution_count": 29,
   "id": "e45ad7e9",
   "metadata": {},
   "outputs": [
    {
     "data": {
      "text/plain": [
       "array([0.05024346, 0.04101253, 0.00301712, 0.03264753, 0.00147219,\n",
       "       0.02850251, 0.32053039, 0.0217314 , 0.06963881, 0.02038421,\n",
       "       0.02749735, 0.01151734, 0.37180517])"
      ]
     },
     "execution_count": 29,
     "metadata": {},
     "output_type": "execute_result"
    }
   ],
   "source": [
    "grid_search.best_estimator_.feature_importances_"
   ]
  },
  {
   "cell_type": "code",
   "execution_count": 1,
   "id": "c3f8ccda",
   "metadata": {},
   "outputs": [],
   "source": [
    "import pandas as pd\n",
    "import numpy as np\n",
    "import seaborn as sns\n",
    "import matplotlib.pyplot as plt\n",
    "import warnings\n",
    "%matplotlib inline\n",
    "warnings.filterwarnings('ignore')"
   ]
  },
  {
   "cell_type": "code",
   "execution_count": 2,
   "id": "44624302",
   "metadata": {},
   "outputs": [],
   "source": [
    "import pandas as pd\n",
    "df=pd.read_csv(r\"C:\\Users\\Nomitech\\Desktop\\Machine learning\\data.csv\")"
   ]
  },
  {
   "cell_type": "code",
   "execution_count": 3,
   "id": "423e2494",
   "metadata": {},
   "outputs": [],
   "source": [
    "#Encoded the categorical data values\n",
    "from sklearn.preprocessing import LabelEncoder\n",
    "encoder = LabelEncoder()\n",
    "df.iloc[:,1]= encoder.fit_transform(df.iloc[:,1].values)"
   ]
  },
  {
   "cell_type": "code",
   "execution_count": 4,
   "id": "1c40c055",
   "metadata": {},
   "outputs": [],
   "source": [
    "##Split the data into independed and depenend data sets\n",
    "x = df.iloc[:,2:31].values\n",
    "y = df.iloc[:,1].values"
   ]
  },
  {
   "cell_type": "code",
   "execution_count": 5,
   "id": "e9550ada",
   "metadata": {},
   "outputs": [],
   "source": [
    "from sklearn.model_selection import train_test_split\n",
    "x_train,x_test,y_train,y_test=train_test_split(x,y,test_size=0.25,random_state=0)"
   ]
  },
  {
   "cell_type": "markdown",
   "id": "db051f0d",
   "metadata": {},
   "source": [
    "# CLASSIFICATION  "
   ]
  },
  {
   "cell_type": "code",
   "execution_count": 6,
   "id": "7d6e02bf",
   "metadata": {},
   "outputs": [
    {
     "data": {
      "text/plain": [
       "SGDClassifier(random_state=42)"
      ]
     },
     "execution_count": 6,
     "metadata": {},
     "output_type": "execute_result"
    }
   ],
   "source": [
    "from sklearn.linear_model import SGDClassifier\n",
    "sgd = SGDClassifier(random_state=42)\n",
    "sgd.fit(x_train,y_train)"
   ]
  },
  {
   "cell_type": "code",
   "execution_count": 7,
   "id": "4eda6123",
   "metadata": {},
   "outputs": [
    {
     "data": {
      "text/plain": [
       "array([0.9122807 , 0.9122807 , 0.89473684, 0.95614035, 0.87610619])"
      ]
     },
     "execution_count": 7,
     "metadata": {},
     "output_type": "execute_result"
    }
   ],
   "source": [
    "from sklearn.model_selection import cross_val_score\n",
    "cross_val_score(sgd,x,y,cv=5,scoring='accuracy')\n"
   ]
  },
  {
   "cell_type": "code",
   "execution_count": 8,
   "id": "d5dedfec",
   "metadata": {},
   "outputs": [
    {
     "data": {
      "text/plain": [
       "array([1, 0, 0, 0, 0, 0, 0, 0, 0, 0, 0, 0, 0, 0, 0, 1, 0, 1, 0, 1, 1, 0,\n",
       "       0, 0, 0, 0, 0, 0, 0, 1, 0, 1, 0, 1, 0, 1, 0, 1, 0, 1, 1, 0, 1, 0,\n",
       "       0, 1, 0, 0, 0, 1, 1, 0, 1, 0, 0, 0, 0, 0, 0, 1, 1, 1, 0, 0, 1, 0,\n",
       "       1, 1, 1, 0, 1, 1, 0, 0, 1, 0, 0, 0, 0, 0, 1, 1, 1, 0, 1, 0, 0, 0,\n",
       "       1, 1, 0, 1, 0, 0, 0, 0, 1, 0, 0, 0, 0, 0, 0, 0, 1, 0, 1, 0, 1, 0,\n",
       "       0, 1, 1, 0, 0, 0, 0, 0, 0, 0, 0, 0, 0, 0, 1, 0, 1, 0, 0, 0, 1, 0,\n",
       "       0, 0, 0, 0, 0, 1, 1, 0, 0, 0, 1])"
      ]
     },
     "execution_count": 8,
     "metadata": {},
     "output_type": "execute_result"
    }
   ],
   "source": [
    "sgd.predict(x_test)"
   ]
  },
  {
   "cell_type": "code",
   "execution_count": 9,
   "id": "52954fdd",
   "metadata": {},
   "outputs": [
    {
     "data": {
      "text/plain": [
       "array([1, 0, 0, 0, 0, 0, 0, 0, 0, 0, 0, 0, 0, 0, 0, 1, 0, 1, 1, 1, 1, 1,\n",
       "       0, 0, 1, 0, 0, 1, 0, 1, 0, 1, 0, 1, 0, 1, 0, 1, 0, 1, 1, 0, 1, 0,\n",
       "       0, 1, 0, 0, 0, 1, 1, 1, 1, 0, 0, 0, 0, 0, 0, 1, 1, 1, 0, 0, 1, 0,\n",
       "       1, 1, 1, 0, 0, 1, 0, 1, 1, 0, 0, 0, 0, 0, 1, 1, 1, 0, 1, 0, 0, 0,\n",
       "       1, 1, 0, 1, 0, 1, 0, 0, 1, 0, 0, 0, 0, 0, 0, 0, 1, 0, 1, 0, 1, 1,\n",
       "       0, 1, 1, 0, 0, 0, 0, 0, 0, 0, 0, 0, 1, 0, 1, 0, 0, 0, 0, 0, 1, 0,\n",
       "       0, 0, 0, 0, 0, 1, 1, 0, 0, 0, 1])"
      ]
     },
     "execution_count": 9,
     "metadata": {},
     "output_type": "execute_result"
    }
   ],
   "source": [
    "y_test"
   ]
  },
  {
   "cell_type": "code",
   "execution_count": 10,
   "id": "d757d47c",
   "metadata": {},
   "outputs": [],
   "source": [
    "from sklearn.model_selection import cross_val_predict\n",
    "y_train_pred = cross_val_predict(sgd,x_train,y_train,cv=5)"
   ]
  },
  {
   "cell_type": "markdown",
   "id": "dc076b41",
   "metadata": {},
   "source": [
    "Just like the cross_val_score() function, cross_val_predict() performs K-fold\n",
    "cross-validation, but instead of returning the evaluation scores, it returns the predic‐\n",
    "tions made on each test fold. This means that you get a clean prediction for each\n",
    "instance in the training set (“clean” meaning that the prediction is made by a model\n",
    "that never saw the data during training).\n"
   ]
  },
  {
   "cell_type": "code",
   "execution_count": 12,
   "id": "f07aed7a",
   "metadata": {},
   "outputs": [
    {
     "data": {
      "text/plain": [
       "array([[243,  24],\n",
       "       [ 38, 121]], dtype=int64)"
      ]
     },
     "execution_count": 12,
     "metadata": {},
     "output_type": "execute_result"
    }
   ],
   "source": [
    "from sklearn.metrics import confusion_matrix\n",
    "confusion_matrix(y_train,y_train_pred)\n",
    "\n",
    "##243 true px nengatives correctly classifier 24 false wrongly classified,false positives\n",
    "##koitakse to sto internet\n"
   ]
  },
  {
   "cell_type": "code",
   "execution_count": 13,
   "id": "6f85093c",
   "metadata": {},
   "outputs": [
    {
     "data": {
      "text/plain": [
       "0.8344827586206897"
      ]
     },
     "execution_count": 13,
     "metadata": {},
     "output_type": "execute_result"
    }
   ],
   "source": [
    "##Precision and recall scores tsekare ta sto internet\n",
    "from sklearn.metrics import precision_score,recall_score\n",
    "precision_score(y_train,y_train_pred)"
   ]
  },
  {
   "cell_type": "code",
   "execution_count": 14,
   "id": "fd82b9c1",
   "metadata": {},
   "outputs": [
    {
     "data": {
      "text/plain": [
       "0.7610062893081762"
      ]
     },
     "execution_count": 14,
     "metadata": {},
     "output_type": "execute_result"
    }
   ],
   "source": [
    "recall_score(y_train, y_train_pred) "
   ]
  },
  {
   "cell_type": "code",
   "execution_count": 15,
   "id": "b2acfc79",
   "metadata": {},
   "outputs": [],
   "source": [
    "##auta ta 2 mporeis na ta tairiakseis ston f1 score\n",
    "from sklearn.metrics import f1_score"
   ]
  },
  {
   "cell_type": "code",
   "execution_count": 16,
   "id": "23eaf3ce",
   "metadata": {},
   "outputs": [
    {
     "data": {
      "text/plain": [
       "0.7960526315789475"
      ]
     },
     "execution_count": 16,
     "metadata": {},
     "output_type": "execute_result"
    }
   ],
   "source": [
    "f1_score(y_train,y_train_pred)"
   ]
  },
  {
   "cell_type": "code",
   "execution_count": null,
   "id": "a8c3e126",
   "metadata": {},
   "outputs": [],
   "source": []
  }
 ],
 "metadata": {
  "kernelspec": {
   "display_name": "Python 3",
   "language": "python",
   "name": "python3"
  },
  "language_info": {
   "codemirror_mode": {
    "name": "ipython",
    "version": 3
   },
   "file_extension": ".py",
   "mimetype": "text/x-python",
   "name": "python",
   "nbconvert_exporter": "python",
   "pygments_lexer": "ipython3",
   "version": "3.8.8"
  }
 },
 "nbformat": 4,
 "nbformat_minor": 5
}
