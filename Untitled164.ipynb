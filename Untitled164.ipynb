{
 "cells": [
  {
   "cell_type": "markdown",
   "id": "d10656b1",
   "metadata": {},
   "source": [
    "# LESSER OF TWO EVENS: Write a function that returns the lesser of two given numbers if both numbers are even, but returns the greater if one or both numbers are odd"
   ]
  },
  {
   "cell_type": "markdown",
   "id": "2a7f5901",
   "metadata": {},
   "source": [
    "lesser_of_two_evens(2,4) --> 2\n",
    "lesser_of_two_evens(2,5) --> 5"
   ]
  },
  {
   "cell_type": "code",
   "execution_count": 24,
   "id": "da81711a",
   "metadata": {},
   "outputs": [],
   "source": [
    "def even(a,b):\n",
    "    even= []\n",
    "    odd=[]\n",
    "    if (a%2) == 0 and (b%2)==0:\n",
    "        even.append(a)\n",
    "        even.append(b)\n",
    "        \n",
    "        return min(even)\n",
    "    else:\n",
    "        odd.append(a)\n",
    "        odd.append(b)\n",
    "        return max(odd)"
   ]
  },
  {
   "cell_type": "code",
   "execution_count": 26,
   "id": "a509d049",
   "metadata": {},
   "outputs": [
    {
     "data": {
      "text/plain": [
       "2"
      ]
     },
     "execution_count": 26,
     "metadata": {},
     "output_type": "execute_result"
    }
   ],
   "source": [
    "even(2,4)"
   ]
  },
  {
   "cell_type": "code",
   "execution_count": 89,
   "id": "3bb19e8a",
   "metadata": {},
   "outputs": [],
   "source": [
    "def lesser(a,b):\n",
    "    if (a%2)==2 and (b%2)==2:\n",
    "        if a < b:\n",
    "            result =  a\n",
    "        else:\n",
    "            result = b\n",
    "    else:\n",
    "        if a > b:\n",
    "            result = a\n",
    "        else:\n",
    "            result = b\n",
    "            \n",
    "    return result\n",
    "        "
   ]
  },
  {
   "cell_type": "code",
   "execution_count": 90,
   "id": "e6529612",
   "metadata": {},
   "outputs": [
    {
     "data": {
      "text/plain": [
       "6"
      ]
     },
     "execution_count": 90,
     "metadata": {},
     "output_type": "execute_result"
    }
   ],
   "source": [
    "lesser(6,4)"
   ]
  },
  {
   "cell_type": "code",
   "execution_count": 28,
   "id": "aac5bb2c",
   "metadata": {},
   "outputs": [
    {
     "data": {
      "text/plain": [
       "5"
      ]
     },
     "execution_count": 28,
     "metadata": {},
     "output_type": "execute_result"
    }
   ],
   "source": [
    "even(1,5)"
   ]
  },
  {
   "cell_type": "code",
   "execution_count": 45,
   "id": "f645bb49",
   "metadata": {},
   "outputs": [],
   "source": [
    "def checker(a):\n",
    "    a,b = a.split()\n",
    "    if a[0]==b[0]:\n",
    "        return True\n",
    "    else:\n",
    "        return False"
   ]
  },
  {
   "cell_type": "code",
   "execution_count": 46,
   "id": "e80083fa",
   "metadata": {},
   "outputs": [
    {
     "data": {
      "text/plain": [
       "False"
      ]
     },
     "execution_count": 46,
     "metadata": {},
     "output_type": "execute_result"
    }
   ],
   "source": [
    "checker(\"Paris Tapas\")"
   ]
  },
  {
   "cell_type": "code",
   "execution_count": 74,
   "id": "bdbceff4",
   "metadata": {},
   "outputs": [],
   "source": [
    "def checker_number(a,b):\n",
    "    sum = a+b\n",
    "    if sum ==20:\n",
    "        return True\n",
    "    if (a==20 and b != a) or (b==20 and a!=b):\n",
    "        return True\n",
    "    else:\n",
    "        return False"
   ]
  },
  {
   "cell_type": "code",
   "execution_count": 78,
   "id": "815d5c9e",
   "metadata": {},
   "outputs": [
    {
     "data": {
      "text/plain": [
       "True"
      ]
     },
     "execution_count": 78,
     "metadata": {},
     "output_type": "execute_result"
    }
   ],
   "source": [
    "checker_number(39,20)"
   ]
  },
  {
   "cell_type": "code",
   "execution_count": 119,
   "id": "87b94277",
   "metadata": {},
   "outputs": [],
   "source": [
    "def capitilize(name):\n",
    "    first=name[0]\n",
    "    second=name[1:3]\n",
    "    third=name[3]\n",
    "    fourt=name[4:]\n",
    "    print(first.upper() + second+third.upper()+fourt)"
   ]
  },
  {
   "cell_type": "code",
   "execution_count": 120,
   "id": "3de3ee65",
   "metadata": {},
   "outputs": [
    {
     "name": "stdout",
     "output_type": "stream",
     "text": [
      "MacDonald\n"
     ]
    }
   ],
   "source": [
    "capitilize(\"macdonald\")"
   ]
  },
  {
   "cell_type": "code",
   "execution_count": 111,
   "id": "7711da1a",
   "metadata": {},
   "outputs": [],
   "source": [
    "name='macdonald'\n"
   ]
  },
  {
   "cell_type": "code",
   "execution_count": 117,
   "id": "9b98fd2d",
   "metadata": {},
   "outputs": [
    {
     "data": {
      "text/plain": [
       "'donald'"
      ]
     },
     "execution_count": 117,
     "metadata": {},
     "output_type": "execute_result"
    }
   ],
   "source": [
    "name[3:]"
   ]
  },
  {
   "cell_type": "code",
   "execution_count": 132,
   "id": "0994c64a",
   "metadata": {},
   "outputs": [],
   "source": [
    "def almost_there(n):\n",
    "    if abs(100-n)<=10:\n",
    "        return True\n",
    "    elif abs(200-n) <=10:\n",
    "        return True\n",
    "    else:\n",
    "        return False"
   ]
  },
  {
   "cell_type": "code",
   "execution_count": 134,
   "id": "3d2a05cb",
   "metadata": {},
   "outputs": [
    {
     "data": {
      "text/plain": [
       "False"
      ]
     },
     "execution_count": 134,
     "metadata": {},
     "output_type": "execute_result"
    }
   ],
   "source": [
    "almost_there(150)"
   ]
  },
  {
   "cell_type": "code",
   "execution_count": 136,
   "id": "3120a4a4",
   "metadata": {},
   "outputs": [
    {
     "data": {
      "text/plain": [
       "40"
      ]
     },
     "execution_count": 136,
     "metadata": {},
     "output_type": "execute_result"
    }
   ],
   "source": [
    "abs(100-60)"
   ]
  },
  {
   "cell_type": "code",
   "execution_count": 137,
   "id": "57c9bb60",
   "metadata": {},
   "outputs": [],
   "source": [
    "def blackjack(a,b,c):\n",
    "    sum=a+b+c\n",
    "    if sum <=20:\n",
    "        return sum\n",
    "    elif sum > 21 and (a==11 or b ==11 or c == 11):\n",
    "        return sum - 10\n",
    "    elif sum >21:\n",
    "        print(\"BUST\")"
   ]
  },
  {
   "cell_type": "code",
   "execution_count": 138,
   "id": "796fae9a",
   "metadata": {},
   "outputs": [
    {
     "data": {
      "text/plain": [
       "18"
      ]
     },
     "execution_count": 138,
     "metadata": {},
     "output_type": "execute_result"
    }
   ],
   "source": [
    "blackjack(5,6,7)"
   ]
  },
  {
   "cell_type": "code",
   "execution_count": 139,
   "id": "8cb3e151",
   "metadata": {},
   "outputs": [
    {
     "name": "stdout",
     "output_type": "stream",
     "text": [
      "BUST\n"
     ]
    }
   ],
   "source": [
    "blackjack(9,9,9)"
   ]
  },
  {
   "cell_type": "code",
   "execution_count": 140,
   "id": "6cf5f880",
   "metadata": {},
   "outputs": [
    {
     "data": {
      "text/plain": [
       "19"
      ]
     },
     "execution_count": 140,
     "metadata": {},
     "output_type": "execute_result"
    }
   ],
   "source": [
    "blackjack(9,9,11)"
   ]
  },
  {
   "cell_type": "code",
   "execution_count": 170,
   "id": "49fede56",
   "metadata": {},
   "outputs": [],
   "source": [
    "def summer_of(arr):\n",
    "    sum=[]\n",
    "    for i in arr:\n",
    "        if i >6 and i<=9:\n",
    "            pass\n",
    "        else:\n",
    "            sum = i+0\n",
    "        return sum"
   ]
  },
  {
   "cell_type": "code",
   "execution_count": 172,
   "id": "12381675",
   "metadata": {},
   "outputs": [
    {
     "data": {
      "text/plain": [
       "3"
      ]
     },
     "execution_count": 172,
     "metadata": {},
     "output_type": "execute_result"
    }
   ],
   "source": [
    "summer_of([3,4])"
   ]
  },
  {
   "cell_type": "code",
   "execution_count": 178,
   "id": "aa6f823d",
   "metadata": {},
   "outputs": [],
   "source": [
    "sum1=[]\n",
    "list1=[2,3,4]\n",
    "for i in list1:\n",
    "    sum1=i+0\n",
    "    \n",
    "    "
   ]
  },
  {
   "cell_type": "code",
   "execution_count": 25,
   "id": "198c8cab",
   "metadata": {},
   "outputs": [],
   "source": [
    "\n",
    "def summer_69(x):\n",
    "    sum1 = 0\n",
    "    for i in x:\n",
    "        if i>5 and i <10:\n",
    "            pass\n",
    "        else:\n",
    "            sum1= sum1+i\n",
    "    return sum1"
   ]
  },
  {
   "cell_type": "code",
   "execution_count": 32,
   "id": "4f955188",
   "metadata": {},
   "outputs": [
    {
     "ename": "TypeError",
     "evalue": "'>' not supported between instances of 'list' and 'int'",
     "output_type": "error",
     "traceback": [
      "\u001b[1;31m---------------------------------------------------------------------------\u001b[0m",
      "\u001b[1;31mTypeError\u001b[0m                                 Traceback (most recent call last)",
      "\u001b[1;32m<ipython-input-32-357d8e0f0bdd>\u001b[0m in \u001b[0;36m<module>\u001b[1;34m\u001b[0m\n\u001b[1;32m----> 1\u001b[1;33m \u001b[0msumos\u001b[0m\u001b[1;33m(\u001b[0m\u001b[1;33m[\u001b[0m\u001b[1;36m1\u001b[0m\u001b[1;33m,\u001b[0m\u001b[1;36m3\u001b[0m\u001b[1;33m,\u001b[0m\u001b[1;36m5\u001b[0m\u001b[1;33m]\u001b[0m\u001b[1;33m)\u001b[0m\u001b[1;33m\u001b[0m\u001b[1;33m\u001b[0m\u001b[0m\n\u001b[0m",
      "\u001b[1;32m<ipython-input-30-6725e620be70>\u001b[0m in \u001b[0;36msumos\u001b[1;34m(x)\u001b[0m\n\u001b[0;32m      2\u001b[0m     \u001b[0mtotal\u001b[0m \u001b[1;33m=\u001b[0m \u001b[1;36m0\u001b[0m\u001b[1;33m\u001b[0m\u001b[1;33m\u001b[0m\u001b[0m\n\u001b[0;32m      3\u001b[0m     \u001b[1;32mfor\u001b[0m \u001b[0mi\u001b[0m \u001b[1;32min\u001b[0m \u001b[0mx\u001b[0m\u001b[1;33m:\u001b[0m\u001b[1;33m\u001b[0m\u001b[1;33m\u001b[0m\u001b[0m\n\u001b[1;32m----> 4\u001b[1;33m         \u001b[1;32mif\u001b[0m \u001b[0mx\u001b[0m\u001b[1;33m>\u001b[0m\u001b[1;36m5\u001b[0m \u001b[1;32mand\u001b[0m \u001b[0mx\u001b[0m\u001b[1;33m<\u001b[0m\u001b[1;36m9\u001b[0m\u001b[1;33m:\u001b[0m\u001b[1;33m\u001b[0m\u001b[1;33m\u001b[0m\u001b[0m\n\u001b[0m\u001b[0;32m      5\u001b[0m             \u001b[1;32mpass\u001b[0m\u001b[1;33m\u001b[0m\u001b[1;33m\u001b[0m\u001b[0m\n\u001b[0;32m      6\u001b[0m         \u001b[1;32melse\u001b[0m\u001b[1;33m:\u001b[0m\u001b[1;33m\u001b[0m\u001b[1;33m\u001b[0m\u001b[0m\n",
      "\u001b[1;31mTypeError\u001b[0m: '>' not supported between instances of 'list' and 'int'"
     ]
    }
   ],
   "source": [
    "sumos([1,3,5])\n"
   ]
  },
  {
   "cell_type": "code",
   "execution_count": 28,
   "id": "53dac141",
   "metadata": {},
   "outputs": [
    {
     "data": {
      "text/plain": [
       "9"
      ]
     },
     "execution_count": 28,
     "metadata": {},
     "output_type": "execute_result"
    }
   ],
   "source": [
    "sumos([4,5,6,7,8,9])"
   ]
  },
  {
   "cell_type": "code",
   "execution_count": 29,
   "id": "0182d834",
   "metadata": {},
   "outputs": [
    {
     "data": {
      "text/plain": [
       "14"
      ]
     },
     "execution_count": 29,
     "metadata": {},
     "output_type": "execute_result"
    }
   ],
   "source": [
    "sumos([2,1,6,9,11])"
   ]
  },
  {
   "cell_type": "code",
   "execution_count": 16,
   "id": "8407cfe4",
   "metadata": {},
   "outputs": [
    {
     "data": {
      "text/plain": [
       "6"
      ]
     },
     "execution_count": 16,
     "metadata": {},
     "output_type": "execute_result"
    }
   ],
   "source": [
    "\n",
    "def sum_numbers(numbers):\n",
    "    total=0\n",
    "\n",
    "    for num in numbers:\n",
    "        total=total+num\n",
    "    return total\n"
   ]
  },
  {
   "cell_type": "code",
   "execution_count": null,
   "id": "1df876c7",
   "metadata": {},
   "outputs": [],
   "source": []
  },
  {
   "cell_type": "code",
   "execution_count": 40,
   "id": "08024c4a",
   "metadata": {},
   "outputs": [],
   "source": [
    "     "
   ]
  },
  {
   "cell_type": "code",
   "execution_count": 36,
   "id": "0836b123",
   "metadata": {},
   "outputs": [],
   "source": [
    "\n",
    "def summer_69(x):\n",
    "    sum1 = 0\n",
    "    for i in x:\n",
    "        if i>5 and i <10:\n",
    "            pass\n",
    "        else:\n",
    "            sum1= sum1+i\n",
    "    return sum1"
   ]
  },
  {
   "cell_type": "code",
   "execution_count": 43,
   "id": "7fe045d4",
   "metadata": {},
   "outputs": [
    {
     "data": {
      "text/plain": [
       "16"
      ]
     },
     "execution_count": 43,
     "metadata": {},
     "output_type": "execute_result"
    }
   ],
   "source": [
    "sumos([3,4,9,7])"
   ]
  },
  {
   "cell_type": "code",
   "execution_count": 44,
   "id": "d0101d01",
   "metadata": {},
   "outputs": [
    {
     "data": {
      "text/plain": [
       "13"
      ]
     },
     "execution_count": 44,
     "metadata": {},
     "output_type": "execute_result"
    }
   ],
   "source": [
    "summer_69([3,5,5,7])"
   ]
  },
  {
   "cell_type": "code",
   "execution_count": 45,
   "id": "8c59d6b8",
   "metadata": {},
   "outputs": [],
   "source": [
    "def summos(x):\n",
    "    total = 0\n",
    "    for i in x:\n",
    "        if i >5 and i<10:\n",
    "            pass\n",
    "        else:\n",
    "            total +=i\n",
    "    return total       "
   ]
  },
  {
   "cell_type": "code",
   "execution_count": 49,
   "id": "7afe80a1",
   "metadata": {},
   "outputs": [
    {
     "data": {
      "text/plain": [
       "32"
      ]
     },
     "execution_count": 49,
     "metadata": {},
     "output_type": "execute_result"
    }
   ],
   "source": [
    "summos([3,4,5,6,20])"
   ]
  },
  {
   "cell_type": "code",
   "execution_count": null,
   "id": "439ca0e5",
   "metadata": {},
   "outputs": [],
   "source": []
  }
 ],
 "metadata": {
  "kernelspec": {
   "display_name": "Python 3",
   "language": "python",
   "name": "python3"
  },
  "language_info": {
   "codemirror_mode": {
    "name": "ipython",
    "version": 3
   },
   "file_extension": ".py",
   "mimetype": "text/x-python",
   "name": "python",
   "nbconvert_exporter": "python",
   "pygments_lexer": "ipython3",
   "version": "3.8.8"
  }
 },
 "nbformat": 4,
 "nbformat_minor": 5
}
