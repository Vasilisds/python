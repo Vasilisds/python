{
 "cells": [
  {
   "cell_type": "code",
   "execution_count": 1,
   "id": "e8994ba9",
   "metadata": {},
   "outputs": [],
   "source": [
    "import numpy as np\n",
    "X = 2 * np.random.rand(100, 1)\n",
    "y = 4 + 3 * X + np.random.randn(100, 1)"
   ]
  },
  {
   "cell_type": "code",
   "execution_count": 2,
   "id": "4eeca664",
   "metadata": {},
   "outputs": [],
   "source": [
    "X_b = np.c_[np.ones((100, 1)), X] # add x0 = 1 to each instance\n",
    "theta_best = np.linalg.inv(X_b.T.dot(X_b)).dot(X_b.T).dot(y)\n"
   ]
  },
  {
   "cell_type": "markdown",
   "id": "78e4953d",
   "metadata": {},
   "source": [
    "Now let’s compute θusing the Normal Equation. We will use the inv() function from\n",
    "NumPy’s Linear Algebra module (np.linalg) to compute the inverse of a matrix, and\n",
    "the dot() method for matrix multiplication:"
   ]
  },
  {
   "cell_type": "code",
   "execution_count": 5,
   "id": "a874ab9f",
   "metadata": {},
   "outputs": [
    {
     "data": {
      "text/plain": [
       "array([[3.73917587],\n",
       "       [3.30809885]])"
      ]
     },
     "execution_count": 5,
     "metadata": {},
     "output_type": "execute_result"
    }
   ],
   "source": [
    "#The actual function that we used to generate the data is y = 4 + 3x1 + Gaussian noise.\n",
    "#Let’s see what the equation found:\n",
    "theta_best"
   ]
  },
  {
   "cell_type": "markdown",
   "id": "ae740948",
   "metadata": {},
   "source": [
    "When using Gradient Descent, you should ensure that all features\n",
    "have a similar scale (e.g., using Scikit-Learn’s StandardScaler\n",
    "class), or else it will take much longer to converge"
   ]
  },
  {
   "cell_type": "code",
   "execution_count": 3,
   "id": "16087b1c",
   "metadata": {},
   "outputs": [
    {
     "data": {
      "text/plain": [
       "array([[ 3.73917587],\n",
       "       [10.35537356]])"
      ]
     },
     "execution_count": 3,
     "metadata": {},
     "output_type": "execute_result"
    }
   ],
   "source": [
    "X_new = np.array([[0], [2]])\n",
    "X_new_b = np.c_[np.ones((2, 1)), X_new] # add x0 = 1 to each instance\n",
    "y_predict = X_new_b.dot(theta_best)\n",
    "y_predict\n"
   ]
  },
  {
   "cell_type": "markdown",
   "id": "03947476",
   "metadata": {},
   "source": [
    "To implement Gradient Descent, you need to compute the gradient of the cost func‐\n",
    "tion with regards to each model parameter θj\n",
    ". In other words, you need to calculate\n",
    "how much the cost function will change if you change θj\n",
    "just a little bit. This is called\n",
    "a partial derivative. It is like asking “what is the slope of the mountain under my feet\n",
    "if I face east?” and then asking the same question facing north (and so on for all other\n",
    "dimensions, if you can imagine a universe with more than three dimensions). Equa‐\n",
    "tion 4-5 computes the partial derivative of the cost function with regards to parame‐\n",
    "ter θj\n",
    ", noted ∂\n",
    "∂θ\n",
    "j\n",
    "MSE θ ."
   ]
  },
  {
   "cell_type": "code",
   "execution_count": 7,
   "id": "46ce89dd",
   "metadata": {},
   "outputs": [],
   "source": [
    "eta = 0.1 # learning rate\n",
    "n_iterations = 1000\n",
    "m = 100\n",
    "theta = np.random.randn(2,1) # random initialization\n",
    "for iteration in range(n_iterations):\n",
    "    gradients = 2/m * X_b.T.dot(X_b.dot(theta) - y)\n",
    "    theta = theta - eta * gradients\n"
   ]
  },
  {
   "cell_type": "markdown",
   "id": "e57ba94d",
   "metadata": {},
   "source": [
    "Stochastic Gradient Descent\n",
    "The main problem with Batch Gradient Descent is the fact that it uses the whole\n",
    "training set to compute the gradients at every step, which makes it very slow when\n",
    "the training set is large. At the opposite extreme, Stochastic Gradient Descent just\n",
    "picks a random instance in the training set at every step and computes the gradients\n",
    "based only on that single instance. Obviously this makes the algorithm much faster\n",
    "since it has very little data to manipulate at every iteration. It also makes it possible to\n",
    "train on huge training sets, since only one instance needs to be in memory at each\n",
    "iteration (SGD can be implemented as an out-of-core algorithm.7\n",
    ")\n"
   ]
  },
  {
   "cell_type": "code",
   "execution_count": 9,
   "id": "8f2cc291",
   "metadata": {},
   "outputs": [
    {
     "ename": "SyntaxError",
     "evalue": "invalid syntax (<ipython-input-9-8602db69e634>, line 1)",
     "output_type": "error",
     "traceback": [
      "\u001b[1;36m  File \u001b[1;32m\"<ipython-input-9-8602db69e634>\"\u001b[1;36m, line \u001b[1;32m1\u001b[0m\n\u001b[1;33m    On the other hand, due to its stochastic (i.e., random) nature, this algorithm is much\u001b[0m\n\u001b[1;37m       ^\u001b[0m\n\u001b[1;31mSyntaxError\u001b[0m\u001b[1;31m:\u001b[0m invalid syntax\n"
     ]
    }
   ],
   "source": [
    "On the other hand, due to its stochastic (i.e., random) nature, this algorithm is much\n",
    "less regular than Batch Gradient Descent: instead of gently decreasing until it reaches\n",
    "the minimum, the cost function will bounce up and down, decreasing only on aver‐\n",
    "age. Over time it will end up very close to the minimum, but once it gets there it will\n",
    "continue to bounce around, never settling down (see Figure 4-9). So once the algo‐\n",
    "rithm stops, the final parameter values are good, but not optimal.\n"
   ]
  },
  {
   "cell_type": "code",
   "execution_count": 12,
   "id": "ea2f5707",
   "metadata": {},
   "outputs": [
    {
     "data": {
      "text/plain": [
       "SGDRegressor(eta0=0.1, max_iter=50, penalty=None)"
      ]
     },
     "execution_count": 12,
     "metadata": {},
     "output_type": "execute_result"
    }
   ],
   "source": [
    "from sklearn.linear_model import SGDRegressor\n",
    "sgd_reg = SGDRegressor(max_iter=50,penalty=None,eta0=0.1)\n",
    "sgd_reg.fit(X,y.ravel())"
   ]
  },
  {
   "cell_type": "code",
   "execution_count": 14,
   "id": "4f48f90d",
   "metadata": {},
   "outputs": [
    {
     "data": {
      "text/plain": [
       "(array([3.69202511]), array([3.28262074]))"
      ]
     },
     "execution_count": 14,
     "metadata": {},
     "output_type": "execute_result"
    }
   ],
   "source": [
    "sgd_reg.intercept_, sgd_reg.coef_"
   ]
  },
  {
   "cell_type": "markdown",
   "id": "e3fb15c4",
   "metadata": {},
   "source": [
    "Mini-batch Gradient Descent\n",
    "The last Gradient Descent algorithm we will look at is called Mini-batch Gradient\n",
    "Descent. It is quite simple to understand once you know Batch and Stochastic Gradi‐\n",
    "ent Descent: at each step, instead of computing the gradients based on the full train‐\n",
    "ing set (as in Batch GD) or based on just one instance (as in Stochastic GD), MiniGradient Descent | 121"
   ]
  },
  {
   "cell_type": "code",
   "execution_count": 15,
   "id": "32fc1524",
   "metadata": {},
   "outputs": [
    {
     "data": {
      "image/png": "[encoded data removed]",
      "text/plain": [
       "<Figure size 432x288 with 1 Axes>"
      ]
     },
     "metadata": {
      "needs_background": "light"
     },
     "output_type": "display_data"
    }
   ],
   "source": [
    "import matplotlib.pyplot as plt\n",
    "plt.plot(X_new, y_predict, \"r-\")\n",
    "plt.plot(X, y, \"b.\")\n",
    "plt.axis([0, 2, 0, 15])\n",
    "plt.show()\n"
   ]
  },
  {
   "cell_type": "code",
   "execution_count": null,
   "id": "3d3384cf",
   "metadata": {},
   "outputs": [],
   "source": []
  },
  {
   "cell_type": "code",
   "execution_count": 16,
   "id": "96f78813",
   "metadata": {},
   "outputs": [
    {
     "data": {
      "text/plain": [
       "LinearRegression()"
      ]
     },
     "execution_count": 16,
     "metadata": {},
     "output_type": "execute_result"
    }
   ],
   "source": [
    "from sklearn.linear_model import LinearRegression\n",
    "lin_reg = LinearRegression()\n",
    "lin_reg.fit(X,y)\n"
   ]
  },
  {
   "cell_type": "code",
   "execution_count": 17,
   "id": "71ed28f5",
   "metadata": {},
   "outputs": [
    {
     "data": {
      "text/plain": [
       "(array([3.73917587]), array([[3.30809885]]))"
      ]
     },
     "execution_count": 17,
     "metadata": {},
     "output_type": "execute_result"
    }
   ],
   "source": [
    "from sklearn.linear_model import LinearRegression \n",
    "lin_reg = LinearRegression()\n",
    "lin_reg.fit(X, y)\n",
    "lin_reg.intercept_, lin_reg.coef_\n"
   ]
  },
  {
   "cell_type": "code",
   "execution_count": null,
   "id": "31fab815",
   "metadata": {},
   "outputs": [],
   "source": []
  },
  {
   "cell_type": "markdown",
   "id": "902f972d",
   "metadata": {},
   "source": [
    "### Polynomial Regression"
   ]
  },
  {
   "cell_type": "markdown",
   "id": "6c767e2e",
   "metadata": {},
   "source": [
    "What if your data is actually more complex than a simple straight line? Surprisingly,\n",
    "you can actually use a linear model to fit nonlinear data. A simple way to do this is to\n",
    "add powers of each feature as new features, then train a linear model on this extended\n",
    "set of features. This technique is called Polynomial Regression."
   ]
  },
  {
   "cell_type": "code",
   "execution_count": 18,
   "id": "d4af030b",
   "metadata": {},
   "outputs": [],
   "source": [
    "m = 100\n",
    "X = 6 * np.random.rand(m, 1) - 3\n",
    "y = 0.5 * X**2 + X + 2 + np.random.randn(m, 1)"
   ]
  },
  {
   "cell_type": "code",
   "execution_count": 19,
   "id": "ad3200bb",
   "metadata": {},
   "outputs": [
    {
     "data": {
      "text/plain": [
       "<matplotlib.collections.PathCollection at 0x208d8f56a60>"
      ]
     },
     "execution_count": 19,
     "metadata": {},
     "output_type": "execute_result"
    },
    {
     "data": {
      "image/png": "[encoded data removed]",
      "text/plain": [
       "<Figure size 432x288 with 1 Axes>"
      ]
     },
     "metadata": {
      "needs_background": "light"
     },
     "output_type": "display_data"
    }
   ],
   "source": [
    "plt.scatter(X,y)"
   ]
  },
  {
   "cell_type": "code",
   "execution_count": 28,
   "id": "d09f9af5",
   "metadata": {},
   "outputs": [],
   "source": []
  },
  {
   "cell_type": "code",
   "execution_count": 30,
   "id": "63fda998",
   "metadata": {},
   "outputs": [
    {
     "data": {
      "text/plain": [
       "array([-1.27196275])"
      ]
     },
     "execution_count": 30,
     "metadata": {},
     "output_type": "execute_result"
    }
   ],
   "source": [
    "X[0]"
   ]
  },
  {
   "cell_type": "code",
   "execution_count": 21,
   "id": "2e40cc31",
   "metadata": {},
   "outputs": [],
   "source": [
    "from sklearn.preprocessing import PolynomialFeatures##ferneis to fueature\n",
    "poly_features = PolynomialFeatures(degree=2, include_bias=False)#to kaleis\n",
    "X_poly = poly_features.fit_transform(X) #ftiaxneis to class pou exei tin formula apply sto x mas"
   ]
  },
  {
   "cell_type": "code",
   "execution_count": 23,
   "id": "600cc73b",
   "metadata": {},
   "outputs": [
    {
     "data": {
      "text/plain": [
       "array([-2.76912015])"
      ]
     },
     "execution_count": 23,
     "metadata": {},
     "output_type": "execute_result"
    }
   ],
   "source": [
    "X[0]"
   ]
  },
  {
   "cell_type": "code",
   "execution_count": 24,
   "id": "0d3a3e14",
   "metadata": {},
   "outputs": [
    {
     "data": {
      "text/plain": [
       "array([-2.76912015,  7.66802643])"
      ]
     },
     "execution_count": 24,
     "metadata": {},
     "output_type": "execute_result"
    }
   ],
   "source": [
    "X_poly[0]"
   ]
  },
  {
   "cell_type": "code",
   "execution_count": 25,
   "id": "4dce36cb",
   "metadata": {},
   "outputs": [
    {
     "data": {
      "text/plain": [
       "(array([1.93471569]), array([[0.93109153, 0.50745246]]))"
      ]
     },
     "execution_count": 25,
     "metadata": {},
     "output_type": "execute_result"
    }
   ],
   "source": [
    "lin_reg = LinearRegression() \n",
    "lin_reg.fit(X_poly,y)\n",
    "lin_reg.intercept_,lin_reg.coef_\n"
   ]
  },
  {
   "cell_type": "markdown",
   "id": "f6e0d0f7",
   "metadata": {},
   "source": [
    "In Chapter 2 you used cross-validation to get an estimate of a model’s generalization\n",
    "performance. If a model performs well on the training data but generalizes poorly\n",
    "according to the cross-validation metrics, then your model is overfitting. If it per‐\n",
    "forms poorly on both, then it is underfitting. This is one way to tell when a model is\n",
    "too simple or too complex.\n",
    "Another way is to look at the learning curves: these are plots of the model’s perfor‐\n",
    "mance on the training set and the validation set as a function of the training set size\n",
    "(or the training iteration). To generate the plots, simply train the model several times\n",
    "on different sized subsets of the training set. The following code defines a function\n",
    "that plots the learning curves of a model given some training data:\n",
    "\n"
   ]
  },
  {
   "cell_type": "markdown",
   "id": "c4de9a1d",
   "metadata": {},
   "source": [
    "In Chapter 2 you used cross-validation to get an estimate of a model’s generalization\n",
    "performance. If a model performs well on the training data but generalizes poorly\n",
    "according to the cross-validation metrics, then your model is overfitting. If it per‐\n",
    "forms poorly on both, then it is underfitting. This is one way to tell when a model is\n",
    "too simple or too complex.\n"
   ]
  },
  {
   "cell_type": "code",
   "execution_count": null,
   "id": "d9cb251a",
   "metadata": {},
   "outputs": [],
   "source": []
  },
  {
   "cell_type": "code",
   "execution_count": null,
   "id": "5394c4a4",
   "metadata": {},
   "outputs": [],
   "source": []
  },
  {
   "cell_type": "code",
   "execution_count": null,
   "id": "8d98bb3c",
   "metadata": {},
   "outputs": [],
   "source": []
  },
  {
   "cell_type": "code",
   "execution_count": 41,
   "id": "9d67e651",
   "metadata": {},
   "outputs": [],
   "source": [
    "from sklearn.metrics import mean_squared_error\n",
    "from sklearn.model_selection import train_test_split\n",
    "def plot_learning_curves(model, X, y):\n",
    "    X_train, X_val, y_train, y_val = train_test_split(X, y, test_size=0.2)\n",
    "    train_errors, val_errors = [], []\n",
    "    for m in range(1, len(X_train)):\n",
    "        model.fit(X_train[:m], y_train[:m])\n",
    "        y_train_predict = model.predict(X_train[:m])\n",
    "        y_val_predict = model.predict(X_val)\n",
    "        train_errors.append(mean_squared_error(y_train_predict, y_train[:m]))\n",
    "        val_errors.append(mean_squared_error(y_val_predict, y_val))\n",
    "    plt.plot(np.sqrt(train_errors), \"r-+\", linewidth=2, label=\"train\")\n",
    "    plt.plot(np.sqrt(val_errors), \"b-\", linewidth=3, label=\"val\")\n",
    "        \n"
   ]
  },
  {
   "cell_type": "code",
   "execution_count": 42,
   "id": "18864566",
   "metadata": {},
   "outputs": [
    {
     "data": {
      "image/png": "[encoded data removed]",
      "text/plain": [
       "<Figure size 432x288 with 1 Axes>"
      ]
     },
     "metadata": {
      "needs_background": "light"
     },
     "output_type": "display_data"
    }
   ],
   "source": [
    "lin_reg = LinearRegression()\n",
    "plot_learning_curves(lin_reg, X, y)\n"
   ]
  },
  {
   "cell_type": "code",
   "execution_count": null,
   "id": "f7258094",
   "metadata": {},
   "outputs": [],
   "source": []
  },
  {
   "cell_type": "code",
   "execution_count": 40,
   "id": "22a22fdd",
   "metadata": {},
   "outputs": [],
   "source": [
    "from sklearn.model_selection import train_test_split\n",
    "from sklearn.metrics import mean_squared_error\n",
    "from sklearn.pipeline import Pipeline\n",
    "polynomial_regression = Pipeline([\n",
    " (\"poly_features\", PolynomialFeatures(degree=10, include_bias=False)),\n",
    " (\"lin_reg\", LinearRegression()),\n",
    " ])\n",
    "plot_learning_curves(polynomial_regression, X, y)\n"
   ]
  },
  {
   "cell_type": "markdown",
   "id": "a89fd130",
   "metadata": {},
   "source": [
    "Ridge Regression\n",
    "Ridge Regression (also called Tikhonov regularization) is a regularized version of Lin‐\n",
    "ear Regression: a regularization term equal to α∑i = 1\n",
    "n\n",
    "θi\n",
    "2\n",
    " is added to the cost function.\n",
    "This forces the learning algorithm to not only fit the data but also keep the model\n",
    "weights as small as possible. Note that the regularization term should only be added\n",
    "to the cost function during training. Once the model is trained, you want to evaluate\n",
    "the model’s performance using the unregularized performance measure"
   ]
  },
  {
   "cell_type": "markdown",
   "id": "96b7254d",
   "metadata": {},
   "source": [
    "The hyperparameter α controls how much you want to regularize the model. If α = 0"
   ]
  },
  {
   "cell_type": "code",
   "execution_count": 43,
   "id": "b1cb8f3e",
   "metadata": {},
   "outputs": [
    {
     "data": {
      "text/plain": [
       "array([8.61595622])"
      ]
     },
     "execution_count": 43,
     "metadata": {},
     "output_type": "execute_result"
    }
   ],
   "source": [
    "from sklearn.linear_model import Ridge\n",
    "ridge_reg = Ridge(alpha=1, solver=\"cholesky\")\n",
    "ridge_reg.fit(X, y)\n",
    "ridge_reg.predict([[1.5]])\n"
   ]
  },
  {
   "cell_type": "code",
   "execution_count": 44,
   "id": "89c1ef7d",
   "metadata": {},
   "outputs": [
    {
     "data": {
      "text/plain": [
       "array([4.67381945])"
      ]
     },
     "execution_count": 44,
     "metadata": {},
     "output_type": "execute_result"
    }
   ],
   "source": [
    "sgd_reg = SGDRegressor(penalty=\"l2\")\n",
    "sgd_reg.fit(X, y.ravel())\n",
    "sgd_reg.predict([[1.5]])\n"
   ]
  },
  {
   "cell_type": "markdown",
   "id": "88f5d524",
   "metadata": {},
   "source": [
    "The penalty hyperparameter sets the type of regularization term to use. Specifying\n",
    "\"l2\" indicates that you want SGD to add a regularization term to the cost function\n",
    "equal to half the square of the ℓ2\n",
    " norm of the weight vector: this is simply Ridge\n",
    "Regression.\n"
   ]
  },
  {
   "cell_type": "markdown",
   "id": "02d3852c",
   "metadata": {},
   "source": [
    "Lasso Regression\n",
    "Least Absolute Shrinkage and Selection Operator Regression (simply called Lasso\n",
    "Regression) is another regularized version of Linear Regression: just like Ridge\n",
    "Regression, it adds a regularization term to the cost function, but it uses the ℓ1 norm\n",
    "of the weight vector instead of half the square of the ℓ2\n",
    " norm (see Equation 4-10).\n"
   ]
  },
  {
   "cell_type": "markdown",
   "id": "97c346f0",
   "metadata": {},
   "source": [
    "An important characteristic of Lasso Regression is that it tends to completely elimi‐\n",
    "nate the weights of the least important features (i.e., set them to zero). For example,\n",
    "the dashed line in the right plot on Figure 4-18 (with α = 10-7) looks quadratic, almost\n",
    "linear: all the weights for the high-degree polynomial features are equal to zero. In\n",
    "other words, Lasso Regression automatically performs feature selection and outputs a\n",
    "sparse model (i.e., with few nonzero feature weights)."
   ]
  },
  {
   "cell_type": "code",
   "execution_count": 45,
   "id": "a412f132",
   "metadata": {},
   "outputs": [
    {
     "data": {
      "text/plain": [
       "array([4.65131976])"
      ]
     },
     "execution_count": 45,
     "metadata": {},
     "output_type": "execute_result"
    }
   ],
   "source": [
    "from sklearn.linear_model import Lasso\n",
    "lasso_reg=Lasso(alpha=0.1)\n",
    "lasso_reg.fit(X,y)\n",
    "lasso_reg.predict([[1.5]])"
   ]
  },
  {
   "cell_type": "markdown",
   "id": "c1a8bec7",
   "metadata": {},
   "source": [
    "So when should you use plain Linear Regression (i.e., without any regularization),\n",
    "Ridge, Lasso, or Elastic Net? It is almost always preferable to have at least a little bit of\n",
    "regularization, so generally you should avoid plain Linear Regression. Ridge is a good\n",
    "default, but if you suspect that only a few features are actually useful, you should pre‐\n",
    "fer Lasso or Elastic Net since they tend to reduce the useless features’ weights down to\n",
    "zero as we have discussed. In general, Elastic Net is preferred over Lasso since Lasso\n",
    "may behave erratically when the number of features is greater than the number of\n",
    "training instances or when several features are strongly correlated."
   ]
  },
  {
   "cell_type": "code",
   "execution_count": 47,
   "id": "07fa9ef3",
   "metadata": {},
   "outputs": [],
   "source": [
    "import pandas as pd\n",
    "df=pd.read_csv(r\"C:\\Users\\Nomitech\\Desktop\\Anek\\Melbourne_housing_FULL.csv\")"
   ]
  },
  {
   "cell_type": "code",
   "execution_count": 48,
   "id": "c49ef4e9",
   "metadata": {},
   "outputs": [
    {
     "data": {
      "text/plain": [
       "Suburb             351\n",
       "Address          34009\n",
       "Rooms               12\n",
       "Type                 3\n",
       "Price             2871\n",
       "Method               9\n",
       "SellerG            388\n",
       "Date                78\n",
       "Distance           215\n",
       "Postcode           211\n",
       "Bedroom2            15\n",
       "Bathroom            11\n",
       "Car                 15\n",
       "Landsize          1684\n",
       "BuildingArea       740\n",
       "YearBuilt          160\n",
       "CouncilArea         33\n",
       "Lattitude        13402\n",
       "Longtitude       14524\n",
       "Regionname           8\n",
       "Propertycount      342\n",
       "dtype: int64"
      ]
     },
     "execution_count": 48,
     "metadata": {},
     "output_type": "execute_result"
    }
   ],
   "source": [
    "df.nunique()"
   ]
  },
  {
   "cell_type": "code",
   "execution_count": 51,
   "id": "8767f532",
   "metadata": {},
   "outputs": [],
   "source": [
    "cols_to_use=['Suburb','Rooms',\"Type\",\"Method\",\"SellerG\",\"Regionname\",\"Propertycount\",\"Distance\",\n",
    "            \"CouncilArea\",\"Bedroom2\",\"Bathroom\",\"Car\",\"Landsize\",\"BuildingArea\",\"Price\"]"
   ]
  },
  {
   "cell_type": "code",
   "execution_count": 52,
   "id": "6ac441ff",
   "metadata": {},
   "outputs": [],
   "source": [
    "df=df[cols_to_use]\n"
   ]
  },
  {
   "cell_type": "code",
   "execution_count": 53,
   "id": "bc0f41af",
   "metadata": {},
   "outputs": [
    {
     "data": {
      "text/plain": [
       "(34857, 15)"
      ]
     },
     "execution_count": 53,
     "metadata": {},
     "output_type": "execute_result"
    }
   ],
   "source": [
    "df.shape"
   ]
  },
  {
   "cell_type": "code",
   "execution_count": 55,
   "id": "8a17d932",
   "metadata": {},
   "outputs": [
    {
     "data": {
      "text/plain": [
       "Suburb               0\n",
       "Rooms                0\n",
       "Type                 0\n",
       "Method               0\n",
       "SellerG              0\n",
       "Regionname           3\n",
       "Propertycount        3\n",
       "Distance             1\n",
       "CouncilArea          3\n",
       "Bedroom2          8217\n",
       "Bathroom          8226\n",
       "Car               8728\n",
       "Landsize         11810\n",
       "BuildingArea     21115\n",
       "Price             7610\n",
       "dtype: int64"
      ]
     },
     "execution_count": 55,
     "metadata": {},
     "output_type": "execute_result"
    }
   ],
   "source": [
    "df.isna().sum()"
   ]
  },
  {
   "cell_type": "code",
   "execution_count": 56,
   "id": "939e9307",
   "metadata": {},
   "outputs": [
    {
     "name": "stderr",
     "output_type": "stream",
     "text": [
      "C:\\Users\\Nomitech\\anaconda3\\lib\\site-packages\\pandas\\core\\frame.py:3191: SettingWithCopyWarning: \n",
      "A value is trying to be set on a copy of a slice from a DataFrame.\n",
      "Try using .loc[row_indexer,col_indexer] = value instead\n",
      "\n",
      "See the caveats in the documentation: https://pandas.pydata.org/pandas-docs/stable/user_guide/indexing.html#returning-a-view-versus-a-copy\n",
      "  self[k1] = value[k2]\n"
     ]
    }
   ],
   "source": [
    "cols_to_fill_zero=['Propertycount','Distance','Bedroom2','Bathroom','Car']\n",
    "df[cols_to_fill_zero] = df[cols_to_fill_zero].fillna(0)"
   ]
  },
  {
   "cell_type": "code",
   "execution_count": 57,
   "id": "4d63314e",
   "metadata": {},
   "outputs": [
    {
     "data": {
      "text/plain": [
       "Suburb               0\n",
       "Rooms                0\n",
       "Type                 0\n",
       "Method               0\n",
       "SellerG              0\n",
       "Regionname           3\n",
       "Propertycount        0\n",
       "Distance             0\n",
       "CouncilArea          3\n",
       "Bedroom2             0\n",
       "Bathroom             0\n",
       "Car                  0\n",
       "Landsize         11810\n",
       "BuildingArea     21115\n",
       "Price             7610\n",
       "dtype: int64"
      ]
     },
     "execution_count": 57,
     "metadata": {},
     "output_type": "execute_result"
    }
   ],
   "source": [
    "df.isna().sum()"
   ]
  },
  {
   "cell_type": "code",
   "execution_count": 58,
   "id": "d1a1a125",
   "metadata": {},
   "outputs": [
    {
     "name": "stderr",
     "output_type": "stream",
     "text": [
      "<ipython-input-58-c1fce6a192fb>:1: SettingWithCopyWarning: \n",
      "A value is trying to be set on a copy of a slice from a DataFrame.\n",
      "Try using .loc[row_indexer,col_indexer] = value instead\n",
      "\n",
      "See the caveats in the documentation: https://pandas.pydata.org/pandas-docs/stable/user_guide/indexing.html#returning-a-view-versus-a-copy\n",
      "  df['Landsize']=df['Landsize'].fillna(df.Landsize.mean())\n",
      "<ipython-input-58-c1fce6a192fb>:2: SettingWithCopyWarning: \n",
      "A value is trying to be set on a copy of a slice from a DataFrame.\n",
      "Try using .loc[row_indexer,col_indexer] = value instead\n",
      "\n",
      "See the caveats in the documentation: https://pandas.pydata.org/pandas-docs/stable/user_guide/indexing.html#returning-a-view-versus-a-copy\n",
      "  df['BuildingArea']=df['BuildingArea'].fillna(df.BuildingArea.mean())\n"
     ]
    }
   ],
   "source": [
    "df['Landsize']=df['Landsize'].fillna(df.Landsize.mean())\n",
    "df['BuildingArea']=df['BuildingArea'].fillna(df.BuildingArea.mean())"
   ]
  },
  {
   "cell_type": "code",
   "execution_count": 59,
   "id": "216c88e7",
   "metadata": {},
   "outputs": [
    {
     "data": {
      "text/plain": [
       "Suburb              0\n",
       "Rooms               0\n",
       "Type                0\n",
       "Method              0\n",
       "SellerG             0\n",
       "Regionname          3\n",
       "Propertycount       0\n",
       "Distance            0\n",
       "CouncilArea         3\n",
       "Bedroom2            0\n",
       "Bathroom            0\n",
       "Car                 0\n",
       "Landsize            0\n",
       "BuildingArea        0\n",
       "Price            7610\n",
       "dtype: int64"
      ]
     },
     "execution_count": 59,
     "metadata": {},
     "output_type": "execute_result"
    }
   ],
   "source": [
    "df.isna().sum()"
   ]
  },
  {
   "cell_type": "code",
   "execution_count": 60,
   "id": "5e220742",
   "metadata": {},
   "outputs": [
    {
     "name": "stderr",
     "output_type": "stream",
     "text": [
      "<ipython-input-60-c64f9f573c18>:1: SettingWithCopyWarning: \n",
      "A value is trying to be set on a copy of a slice from a DataFrame\n",
      "\n",
      "See the caveats in the documentation: https://pandas.pydata.org/pandas-docs/stable/user_guide/indexing.html#returning-a-view-versus-a-copy\n",
      "  df.dropna(inplace=True)\n"
     ]
    }
   ],
   "source": [
    "df.dropna(inplace=True)"
   ]
  },
  {
   "cell_type": "code",
   "execution_count": 61,
   "id": "c86c5c12",
   "metadata": {},
   "outputs": [],
   "source": [
    "df=pd.get_dummies(df,drop_first=True)"
   ]
  },
  {
   "cell_type": "code",
   "execution_count": 62,
   "id": "9874cabc",
   "metadata": {},
   "outputs": [
    {
     "data": {
      "text/html": [
       "<div>\n",
       "<style scoped>\n",
       "    .dataframe tbody tr th:only-of-type {\n",
       "        vertical-align: middle;\n",
       "    }\n",
       "\n",
       "    .dataframe tbody tr th {\n",
       "        vertical-align: top;\n",
       "    }\n",
       "\n",
       "    .dataframe thead th {\n",
       "        text-align: right;\n",
       "    }\n",
       "</style>\n",
       "<table border=\"1\" class=\"dataframe\">\n",
       "  <thead>\n",
       "    <tr style=\"text-align: right;\">\n",
       "      <th></th>\n",
       "      <th>Rooms</th>\n",
       "      <th>Propertycount</th>\n",
       "      <th>Distance</th>\n",
       "      <th>Bedroom2</th>\n",
       "      <th>Bathroom</th>\n",
       "      <th>Car</th>\n",
       "      <th>Landsize</th>\n",
       "      <th>BuildingArea</th>\n",
       "      <th>Price</th>\n",
       "      <th>Suburb_Aberfeldie</th>\n",
       "      <th>...</th>\n",
       "      <th>CouncilArea_Moorabool Shire Council</th>\n",
       "      <th>CouncilArea_Moreland City Council</th>\n",
       "      <th>CouncilArea_Nillumbik Shire Council</th>\n",
       "      <th>CouncilArea_Port Phillip City Council</th>\n",
       "      <th>CouncilArea_Stonnington City Council</th>\n",
       "      <th>CouncilArea_Whitehorse City Council</th>\n",
       "      <th>CouncilArea_Whittlesea City Council</th>\n",
       "      <th>CouncilArea_Wyndham City Council</th>\n",
       "      <th>CouncilArea_Yarra City Council</th>\n",
       "      <th>CouncilArea_Yarra Ranges Shire Council</th>\n",
       "    </tr>\n",
       "  </thead>\n",
       "  <tbody>\n",
       "    <tr>\n",
       "      <th>1</th>\n",
       "      <td>2</td>\n",
       "      <td>4019.0</td>\n",
       "      <td>2.5</td>\n",
       "      <td>2.0</td>\n",
       "      <td>1.0</td>\n",
       "      <td>1.0</td>\n",
       "      <td>202.000000</td>\n",
       "      <td>160.2564</td>\n",
       "      <td>1480000.0</td>\n",
       "      <td>0</td>\n",
       "      <td>...</td>\n",
       "      <td>0</td>\n",
       "      <td>0</td>\n",
       "      <td>0</td>\n",
       "      <td>0</td>\n",
       "      <td>0</td>\n",
       "      <td>0</td>\n",
       "      <td>0</td>\n",
       "      <td>0</td>\n",
       "      <td>1</td>\n",
       "      <td>0</td>\n",
       "    </tr>\n",
       "    <tr>\n",
       "      <th>2</th>\n",
       "      <td>2</td>\n",
       "      <td>4019.0</td>\n",
       "      <td>2.5</td>\n",
       "      <td>2.0</td>\n",
       "      <td>1.0</td>\n",
       "      <td>0.0</td>\n",
       "      <td>156.000000</td>\n",
       "      <td>79.0000</td>\n",
       "      <td>1035000.0</td>\n",
       "      <td>0</td>\n",
       "      <td>...</td>\n",
       "      <td>0</td>\n",
       "      <td>0</td>\n",
       "      <td>0</td>\n",
       "      <td>0</td>\n",
       "      <td>0</td>\n",
       "      <td>0</td>\n",
       "      <td>0</td>\n",
       "      <td>0</td>\n",
       "      <td>1</td>\n",
       "      <td>0</td>\n",
       "    </tr>\n",
       "    <tr>\n",
       "      <th>4</th>\n",
       "      <td>3</td>\n",
       "      <td>4019.0</td>\n",
       "      <td>2.5</td>\n",
       "      <td>3.0</td>\n",
       "      <td>2.0</td>\n",
       "      <td>0.0</td>\n",
       "      <td>134.000000</td>\n",
       "      <td>150.0000</td>\n",
       "      <td>1465000.0</td>\n",
       "      <td>0</td>\n",
       "      <td>...</td>\n",
       "      <td>0</td>\n",
       "      <td>0</td>\n",
       "      <td>0</td>\n",
       "      <td>0</td>\n",
       "      <td>0</td>\n",
       "      <td>0</td>\n",
       "      <td>0</td>\n",
       "      <td>0</td>\n",
       "      <td>1</td>\n",
       "      <td>0</td>\n",
       "    </tr>\n",
       "    <tr>\n",
       "      <th>5</th>\n",
       "      <td>3</td>\n",
       "      <td>4019.0</td>\n",
       "      <td>2.5</td>\n",
       "      <td>3.0</td>\n",
       "      <td>2.0</td>\n",
       "      <td>1.0</td>\n",
       "      <td>94.000000</td>\n",
       "      <td>160.2564</td>\n",
       "      <td>850000.0</td>\n",
       "      <td>0</td>\n",
       "      <td>...</td>\n",
       "      <td>0</td>\n",
       "      <td>0</td>\n",
       "      <td>0</td>\n",
       "      <td>0</td>\n",
       "      <td>0</td>\n",
       "      <td>0</td>\n",
       "      <td>0</td>\n",
       "      <td>0</td>\n",
       "      <td>1</td>\n",
       "      <td>0</td>\n",
       "    </tr>\n",
       "    <tr>\n",
       "      <th>6</th>\n",
       "      <td>4</td>\n",
       "      <td>4019.0</td>\n",
       "      <td>2.5</td>\n",
       "      <td>3.0</td>\n",
       "      <td>1.0</td>\n",
       "      <td>2.0</td>\n",
       "      <td>120.000000</td>\n",
       "      <td>142.0000</td>\n",
       "      <td>1600000.0</td>\n",
       "      <td>0</td>\n",
       "      <td>...</td>\n",
       "      <td>0</td>\n",
       "      <td>0</td>\n",
       "      <td>0</td>\n",
       "      <td>0</td>\n",
       "      <td>0</td>\n",
       "      <td>0</td>\n",
       "      <td>0</td>\n",
       "      <td>0</td>\n",
       "      <td>1</td>\n",
       "      <td>0</td>\n",
       "    </tr>\n",
       "    <tr>\n",
       "      <th>...</th>\n",
       "      <td>...</td>\n",
       "      <td>...</td>\n",
       "      <td>...</td>\n",
       "      <td>...</td>\n",
       "      <td>...</td>\n",
       "      <td>...</td>\n",
       "      <td>...</td>\n",
       "      <td>...</td>\n",
       "      <td>...</td>\n",
       "      <td>...</td>\n",
       "      <td>...</td>\n",
       "      <td>...</td>\n",
       "      <td>...</td>\n",
       "      <td>...</td>\n",
       "      <td>...</td>\n",
       "      <td>...</td>\n",
       "      <td>...</td>\n",
       "      <td>...</td>\n",
       "      <td>...</td>\n",
       "      <td>...</td>\n",
       "      <td>...</td>\n",
       "    </tr>\n",
       "    <tr>\n",
       "      <th>34852</th>\n",
       "      <td>4</td>\n",
       "      <td>6543.0</td>\n",
       "      <td>6.3</td>\n",
       "      <td>4.0</td>\n",
       "      <td>1.0</td>\n",
       "      <td>3.0</td>\n",
       "      <td>593.000000</td>\n",
       "      <td>160.2564</td>\n",
       "      <td>1480000.0</td>\n",
       "      <td>0</td>\n",
       "      <td>...</td>\n",
       "      <td>0</td>\n",
       "      <td>0</td>\n",
       "      <td>0</td>\n",
       "      <td>0</td>\n",
       "      <td>0</td>\n",
       "      <td>0</td>\n",
       "      <td>0</td>\n",
       "      <td>0</td>\n",
       "      <td>0</td>\n",
       "      <td>0</td>\n",
       "    </tr>\n",
       "    <tr>\n",
       "      <th>34853</th>\n",
       "      <td>2</td>\n",
       "      <td>6543.0</td>\n",
       "      <td>6.3</td>\n",
       "      <td>2.0</td>\n",
       "      <td>2.0</td>\n",
       "      <td>1.0</td>\n",
       "      <td>98.000000</td>\n",
       "      <td>104.0000</td>\n",
       "      <td>888000.0</td>\n",
       "      <td>0</td>\n",
       "      <td>...</td>\n",
       "      <td>0</td>\n",
       "      <td>0</td>\n",
       "      <td>0</td>\n",
       "      <td>0</td>\n",
       "      <td>0</td>\n",
       "      <td>0</td>\n",
       "      <td>0</td>\n",
       "      <td>0</td>\n",
       "      <td>0</td>\n",
       "      <td>0</td>\n",
       "    </tr>\n",
       "    <tr>\n",
       "      <th>34854</th>\n",
       "      <td>2</td>\n",
       "      <td>6543.0</td>\n",
       "      <td>6.3</td>\n",
       "      <td>2.0</td>\n",
       "      <td>1.0</td>\n",
       "      <td>2.0</td>\n",
       "      <td>220.000000</td>\n",
       "      <td>120.0000</td>\n",
       "      <td>705000.0</td>\n",
       "      <td>0</td>\n",
       "      <td>...</td>\n",
       "      <td>0</td>\n",
       "      <td>0</td>\n",
       "      <td>0</td>\n",
       "      <td>0</td>\n",
       "      <td>0</td>\n",
       "      <td>0</td>\n",
       "      <td>0</td>\n",
       "      <td>0</td>\n",
       "      <td>0</td>\n",
       "      <td>0</td>\n",
       "    </tr>\n",
       "    <tr>\n",
       "      <th>34855</th>\n",
       "      <td>3</td>\n",
       "      <td>6543.0</td>\n",
       "      <td>6.3</td>\n",
       "      <td>0.0</td>\n",
       "      <td>0.0</td>\n",
       "      <td>0.0</td>\n",
       "      <td>593.598993</td>\n",
       "      <td>160.2564</td>\n",
       "      <td>1140000.0</td>\n",
       "      <td>0</td>\n",
       "      <td>...</td>\n",
       "      <td>0</td>\n",
       "      <td>0</td>\n",
       "      <td>0</td>\n",
       "      <td>0</td>\n",
       "      <td>0</td>\n",
       "      <td>0</td>\n",
       "      <td>0</td>\n",
       "      <td>0</td>\n",
       "      <td>0</td>\n",
       "      <td>0</td>\n",
       "    </tr>\n",
       "    <tr>\n",
       "      <th>34856</th>\n",
       "      <td>2</td>\n",
       "      <td>6543.0</td>\n",
       "      <td>6.3</td>\n",
       "      <td>2.0</td>\n",
       "      <td>1.0</td>\n",
       "      <td>0.0</td>\n",
       "      <td>250.000000</td>\n",
       "      <td>103.0000</td>\n",
       "      <td>1020000.0</td>\n",
       "      <td>0</td>\n",
       "      <td>...</td>\n",
       "      <td>0</td>\n",
       "      <td>0</td>\n",
       "      <td>0</td>\n",
       "      <td>0</td>\n",
       "      <td>0</td>\n",
       "      <td>0</td>\n",
       "      <td>0</td>\n",
       "      <td>0</td>\n",
       "      <td>0</td>\n",
       "      <td>0</td>\n",
       "    </tr>\n",
       "  </tbody>\n",
       "</table>\n",
       "<p>27244 rows × 745 columns</p>\n",
       "</div>"
      ],
      "text/plain": [
       "       Rooms  Propertycount  Distance  Bedroom2  Bathroom  Car    Landsize  \\\n",
       "1          2         4019.0       2.5       2.0       1.0  1.0  202.000000   \n",
       "2          2         4019.0       2.5       2.0       1.0  0.0  156.000000   \n",
       "4          3         4019.0       2.5       3.0       2.0  0.0  134.000000   \n",
       "5          3         4019.0       2.5       3.0       2.0  1.0   94.000000   \n",
       "6          4         4019.0       2.5       3.0       1.0  2.0  120.000000   \n",
       "...      ...            ...       ...       ...       ...  ...         ...   \n",
       "34852      4         6543.0       6.3       4.0       1.0  3.0  593.000000   \n",
       "34853      2         6543.0       6.3       2.0       2.0  1.0   98.000000   \n",
       "34854      2         6543.0       6.3       2.0       1.0  2.0  220.000000   \n",
       "34855      3         6543.0       6.3       0.0       0.0  0.0  593.598993   \n",
       "34856      2         6543.0       6.3       2.0       1.0  0.0  250.000000   \n",
       "\n",
       "       BuildingArea      Price  Suburb_Aberfeldie  ...  \\\n",
       "1          160.2564  1480000.0                  0  ...   \n",
       "2           79.0000  1035000.0                  0  ...   \n",
       "4          150.0000  1465000.0                  0  ...   \n",
       "5          160.2564   850000.0                  0  ...   \n",
       "6          142.0000  1600000.0                  0  ...   \n",
       "...             ...        ...                ...  ...   \n",
       "34852      160.2564  1480000.0                  0  ...   \n",
       "34853      104.0000   888000.0                  0  ...   \n",
       "34854      120.0000   705000.0                  0  ...   \n",
       "34855      160.2564  1140000.0                  0  ...   \n",
       "34856      103.0000  1020000.0                  0  ...   \n",
       "\n",
       "       CouncilArea_Moorabool Shire Council  CouncilArea_Moreland City Council  \\\n",
       "1                                        0                                  0   \n",
       "2                                        0                                  0   \n",
       "4                                        0                                  0   \n",
       "5                                        0                                  0   \n",
       "6                                        0                                  0   \n",
       "...                                    ...                                ...   \n",
       "34852                                    0                                  0   \n",
       "34853                                    0                                  0   \n",
       "34854                                    0                                  0   \n",
       "34855                                    0                                  0   \n",
       "34856                                    0                                  0   \n",
       "\n",
       "       CouncilArea_Nillumbik Shire Council  \\\n",
       "1                                        0   \n",
       "2                                        0   \n",
       "4                                        0   \n",
       "5                                        0   \n",
       "6                                        0   \n",
       "...                                    ...   \n",
       "34852                                    0   \n",
       "34853                                    0   \n",
       "34854                                    0   \n",
       "34855                                    0   \n",
       "34856                                    0   \n",
       "\n",
       "       CouncilArea_Port Phillip City Council  \\\n",
       "1                                          0   \n",
       "2                                          0   \n",
       "4                                          0   \n",
       "5                                          0   \n",
       "6                                          0   \n",
       "...                                      ...   \n",
       "34852                                      0   \n",
       "34853                                      0   \n",
       "34854                                      0   \n",
       "34855                                      0   \n",
       "34856                                      0   \n",
       "\n",
       "       CouncilArea_Stonnington City Council  \\\n",
       "1                                         0   \n",
       "2                                         0   \n",
       "4                                         0   \n",
       "5                                         0   \n",
       "6                                         0   \n",
       "...                                     ...   \n",
       "34852                                     0   \n",
       "34853                                     0   \n",
       "34854                                     0   \n",
       "34855                                     0   \n",
       "34856                                     0   \n",
       "\n",
       "       CouncilArea_Whitehorse City Council  \\\n",
       "1                                        0   \n",
       "2                                        0   \n",
       "4                                        0   \n",
       "5                                        0   \n",
       "6                                        0   \n",
       "...                                    ...   \n",
       "34852                                    0   \n",
       "34853                                    0   \n",
       "34854                                    0   \n",
       "34855                                    0   \n",
       "34856                                    0   \n",
       "\n",
       "       CouncilArea_Whittlesea City Council  CouncilArea_Wyndham City Council  \\\n",
       "1                                        0                                 0   \n",
       "2                                        0                                 0   \n",
       "4                                        0                                 0   \n",
       "5                                        0                                 0   \n",
       "6                                        0                                 0   \n",
       "...                                    ...                               ...   \n",
       "34852                                    0                                 0   \n",
       "34853                                    0                                 0   \n",
       "34854                                    0                                 0   \n",
       "34855                                    0                                 0   \n",
       "34856                                    0                                 0   \n",
       "\n",
       "       CouncilArea_Yarra City Council  CouncilArea_Yarra Ranges Shire Council  \n",
       "1                                   1                                       0  \n",
       "2                                   1                                       0  \n",
       "4                                   1                                       0  \n",
       "5                                   1                                       0  \n",
       "6                                   1                                       0  \n",
       "...                               ...                                     ...  \n",
       "34852                               0                                       0  \n",
       "34853                               0                                       0  \n",
       "34854                               0                                       0  \n",
       "34855                               0                                       0  \n",
       "34856                               0                                       0  \n",
       "\n",
       "[27244 rows x 745 columns]"
      ]
     },
     "execution_count": 62,
     "metadata": {},
     "output_type": "execute_result"
    }
   ],
   "source": [
    "df"
   ]
  },
  {
   "cell_type": "code",
   "execution_count": 63,
   "id": "0b5d164a",
   "metadata": {},
   "outputs": [],
   "source": [
    "x=df.drop('Price',axis=1)\n",
    "y=df['Price']"
   ]
  },
  {
   "cell_type": "code",
   "execution_count": 64,
   "id": "82c22e95",
   "metadata": {},
   "outputs": [],
   "source": [
    "from sklearn.model_selection import train_test_split\n",
    "x_train,x_test,y_train,y_test=train_test_split(x,y,test_size=0.3,random_state=2)\n",
    "from sklearn.linear_model import LinearRegression\n",
    "reg = LinearRegression().fit(x_train,y_train)"
   ]
  },
  {
   "cell_type": "code",
   "execution_count": 65,
   "id": "9eeb3dbe",
   "metadata": {},
   "outputs": [
    {
     "data": {
      "text/plain": [
       "array([1672988.74421188, 1086049.72134419,  852828.79001489, ...,\n",
       "        891754.56465477,  783898.88694734, 1170611.74699076])"
      ]
     },
     "execution_count": 65,
     "metadata": {},
     "output_type": "execute_result"
    }
   ],
   "source": [
    "reg.predict(x_test)"
   ]
  },
  {
   "cell_type": "code",
   "execution_count": 66,
   "id": "630e7df5",
   "metadata": {},
   "outputs": [
    {
     "data": {
      "text/plain": [
       "0.1385368316158937"
      ]
     },
     "execution_count": 66,
     "metadata": {},
     "output_type": "execute_result"
    }
   ],
   "source": [
    "reg.score(x_test,y_test)"
   ]
  },
  {
   "cell_type": "code",
   "execution_count": 67,
   "id": "93afbbc6",
   "metadata": {},
   "outputs": [
    {
     "data": {
      "text/plain": [
       "0.6827792395792723"
      ]
     },
     "execution_count": 67,
     "metadata": {},
     "output_type": "execute_result"
    }
   ],
   "source": [
    "reg.score(x_train,y_train)\n",
    "##Opws vlepeis overfitting sto test set dinei kako accuracy enw sto train  dinei kalo\n",
    "##Lasso regression dinei l1 regularization\n"
   ]
  },
  {
   "cell_type": "code",
   "execution_count": 68,
   "id": "551a2122",
   "metadata": {},
   "outputs": [
    {
     "name": "stderr",
     "output_type": "stream",
     "text": [
      "C:\\Users\\Nomitech\\anaconda3\\lib\\site-packages\\sklearn\\linear_model\\_coordinate_descent.py:530: ConvergenceWarning: Objective did not converge. You might want to increase the number of iterations. Duality gap: 1326631542478297.5, tolerance: 796258688308222.5\n",
      "  model = cd_fast.enet_coordinate_descent(\n"
     ]
    },
    {
     "data": {
      "text/plain": [
       "Lasso(alpha=50, max_iter=100, tol=0.1)"
      ]
     },
     "execution_count": 68,
     "metadata": {},
     "output_type": "execute_result"
    }
   ],
   "source": [
    "from sklearn import linear_model\n",
    "lasso_reg = linear_model.Lasso(alpha=50,max_iter=100,tol=0.1)\n",
    "lasso_reg.fit(x_train,y_train)"
   ]
  },
  {
   "cell_type": "code",
   "execution_count": 69,
   "id": "ff21f3cc",
   "metadata": {},
   "outputs": [
    {
     "data": {
      "text/plain": [
       "array([1675386.13328946, 1090665.28984345,  885857.08269037, ...,\n",
       "        907941.7324018 ,  792220.8275921 , 1201124.42188506])"
      ]
     },
     "execution_count": 69,
     "metadata": {},
     "output_type": "execute_result"
    }
   ],
   "source": [
    "lasso_reg.predict(x_test)"
   ]
  },
  {
   "cell_type": "code",
   "execution_count": 70,
   "id": "cec64cf8",
   "metadata": {},
   "outputs": [
    {
     "data": {
      "text/plain": [
       "0.6636111369404488"
      ]
     },
     "execution_count": 70,
     "metadata": {},
     "output_type": "execute_result"
    }
   ],
   "source": [
    "lasso_reg.score(x_test,y_test)"
   ]
  },
  {
   "cell_type": "code",
   "execution_count": 71,
   "id": "abdd41b1",
   "metadata": {},
   "outputs": [
    {
     "data": {
      "text/plain": [
       "0.6766985624766824"
      ]
     },
     "execution_count": 71,
     "metadata": {},
     "output_type": "execute_result"
    }
   ],
   "source": [
    "lasso_reg.score(x_train,y_train)"
   ]
  },
  {
   "cell_type": "code",
   "execution_count": 77,
   "id": "28775b1a",
   "metadata": {},
   "outputs": [
    {
     "data": {
      "text/plain": [
       "Ridge(alpha=50, max_iter=100, tol=0.1)"
      ]
     },
     "execution_count": 77,
     "metadata": {},
     "output_type": "execute_result"
    }
   ],
   "source": [
    "from sklearn.linear_model import Ridge\n",
    "ridge_reg=Ridge(alpha=50,max_iter=100,tol=0.1)\n",
    "ridge_reg.fit(x_train,y_train)"
   ]
  },
  {
   "cell_type": "code",
   "execution_count": 78,
   "id": "6deaa3b3",
   "metadata": {},
   "outputs": [
    {
     "data": {
      "text/plain": [
       "0.6670848945194958"
      ]
     },
     "execution_count": 78,
     "metadata": {},
     "output_type": "execute_result"
    }
   ],
   "source": [
    "ridge_reg.score(x_test,y_test)"
   ]
  },
  {
   "cell_type": "markdown",
   "id": "c0efd722",
   "metadata": {},
   "source": [
    "# Logistic Regression"
   ]
  },
  {
   "cell_type": "code",
   "execution_count": 79,
   "id": "85a4edfe",
   "metadata": {},
   "outputs": [],
   "source": [
    "from sklearn import datasets\n",
    "iris = datasets.load_iris()"
   ]
  },
  {
   "cell_type": "code",
   "execution_count": 80,
   "id": "33f12394",
   "metadata": {},
   "outputs": [
    {
     "name": "stderr",
     "output_type": "stream",
     "text": [
      "<ipython-input-80-882c384bd200>:2: DeprecationWarning: `np.int` is a deprecated alias for the builtin `int`. To silence this warning, use `int` by itself. Doing this will not modify any behavior and is safe. When replacing `np.int`, you may wish to use e.g. `np.int64` or `np.int32` to specify the precision. If you wish to review your current use, check the release note link for additional information.\n",
      "Deprecated in NumPy 1.20; for more details and guidance: https://numpy.org/devdocs/release/1.20.0-notes.html#deprecations\n",
      "  y = (iris[\"target\"] == 2).astype(np.int) # 1 if Iris-Virginica, else 0\n"
     ]
    }
   ],
   "source": [
    " X = iris[\"data\"][:, 3:] # petal width\n",
    "y = (iris[\"target\"] == 2).astype(np.int) # 1 if Iris-Virginica, else 0\n"
   ]
  },
  {
   "cell_type": "code",
   "execution_count": 84,
   "id": "9e1ecea6",
   "metadata": {},
   "outputs": [
    {
     "data": {
      "text/plain": [
       "LogisticRegression()"
      ]
     },
     "execution_count": 84,
     "metadata": {},
     "output_type": "execute_result"
    }
   ],
   "source": [
    "from sklearn.linear_model import LogisticRegression\n",
    "log_reg = LogisticRegression()\n",
    "log_reg.fit(X,y)"
   ]
  },
  {
   "cell_type": "code",
   "execution_count": 85,
   "id": "6cfd2834",
   "metadata": {},
   "outputs": [
    {
     "data": {
      "text/plain": [
       "[<matplotlib.lines.Line2D at 0x208dac17fa0>]"
      ]
     },
     "execution_count": 85,
     "metadata": {},
     "output_type": "execute_result"
    },
    {
     "data": {
      "image/png": "[encoded data removed]",
      "text/plain": [
       "<Figure size 432x288 with 1 Axes>"
      ]
     },
     "metadata": {
      "needs_background": "light"
     },
     "output_type": "display_data"
    }
   ],
   "source": [
    "X_new = np.linspace(0, 3, 1000).reshape(-1, 1)\n",
    "y_proba = log_reg.predict_proba(X_new)\n",
    "plt.plot(X_new, y_proba[:, 1], \"g-\", label=\"Iris-Virginica\")\n",
    "plt.plot(X_new, y_proba[:, 0], \"b--\", label=\"Not Iris-Virginica\")\n"
   ]
  },
  {
   "cell_type": "code",
   "execution_count": 86,
   "id": "4b316c10",
   "metadata": {},
   "outputs": [
    {
     "data": {
      "text/plain": [
       "array([1, 0])"
      ]
     },
     "execution_count": 86,
     "metadata": {},
     "output_type": "execute_result"
    }
   ],
   "source": [
    "log_reg.predict([[1.7], [1.5]])\n"
   ]
  },
  {
   "cell_type": "markdown",
   "id": "ac8d5f3e",
   "metadata": {},
   "source": [
    "The petal width of Iris-Virginica flowers (represented by triangles) ranges from 1.4\n",
    "cm to 2.5 cm, while the other iris flowers (represented by squares) generally have a\n",
    "smaller petal width, ranging from 0.1 cm to 1.8 cm. Notice that there is a bit of over‐\n",
    "lap. Above about 2 cm the classifier is highly confident that the flower is an IrisVirginica (it outputs a high probability to that class), while below 1 cm it is highly\n",
    "confident that it is not an Iris-Virginica (high probability for the “Not Iris-Virginica”\n",
    "class). In between these extremes, the classifier is unsure. However, if you ask it to\n",
    "predict the class (using the predict() method rather than the predict_proba()\n",
    "method), it will return whichever class is the most likely. Therefore, there is a decision\n",
    "boundary at around 1.6 cm where both probabilities are equal to 50%: if the petal\n",
    "width is higher than 1.6 cm, the classifier will predict that the flower is an IrisVirginica, or else it will predict that it is not (even if it is not very confident):\n"
   ]
  },
  {
   "cell_type": "code",
   "execution_count": null,
   "id": "f1c4a216",
   "metadata": {},
   "outputs": [],
   "source": []
  }
 ],
 "metadata": {
  "kernelspec": {
   "display_name": "Python 3",
   "language": "python",
   "name": "python3"
  },
  "language_info": {
   "codemirror_mode": {
    "name": "ipython",
    "version": 3
   },
   "file_extension": ".py",
   "mimetype": "text/x-python",
   "name": "python",
   "nbconvert_exporter": "python",
   "pygments_lexer": "ipython3",
   "version": "3.8.8"
  }
 },
 "nbformat": 4,
 "nbformat_minor": 5
}
